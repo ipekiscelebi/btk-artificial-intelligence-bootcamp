{
 "cells": [
  {
   "cell_type": "code",
   "execution_count": 5,
   "metadata": {},
   "outputs": [],
   "source": [
    "from keras import layers\n",
    "from keras.models import Sequential, Model\n",
    "from keras.applications.vgg16 import VGG16\n",
    "from tensorflow.keras import optimizers\n",
    "from keras.preprocessing.image import ImageDataGenerator"
   ]
  },
  {
   "cell_type": "code",
   "execution_count": 6,
   "metadata": {},
   "outputs": [],
   "source": [
    "model=VGG16(include_top=False, input_shape=(224,224,3))"
   ]
  },
  {
   "cell_type": "code",
   "execution_count": 7,
   "metadata": {},
   "outputs": [],
   "source": [
    "for layer in model.layers:\n",
    "    layers.trainable=False    #ağırlıkları tekrar güncellemesin"
   ]
  },
  {
   "cell_type": "code",
   "execution_count": 8,
   "metadata": {},
   "outputs": [
    {
     "data": {
      "text/plain": [
       "[<keras.src.engine.input_layer.InputLayer at 0x2510f7d4b90>,\n",
       " <keras.src.layers.convolutional.conv2d.Conv2D at 0x25111fd2610>,\n",
       " <keras.src.layers.convolutional.conv2d.Conv2D at 0x25111fb72d0>,\n",
       " <keras.src.layers.pooling.max_pooling2d.MaxPooling2D at 0x2510f7d4610>,\n",
       " <keras.src.layers.convolutional.conv2d.Conv2D at 0x25111f52dd0>,\n",
       " <keras.src.layers.convolutional.conv2d.Conv2D at 0x2511206ff90>,\n",
       " <keras.src.layers.pooling.max_pooling2d.MaxPooling2D at 0x2511206d9d0>,\n",
       " <keras.src.layers.convolutional.conv2d.Conv2D at 0x2510d4cc5d0>,\n",
       " <keras.src.layers.convolutional.conv2d.Conv2D at 0x25112083f90>,\n",
       " <keras.src.layers.convolutional.conv2d.Conv2D at 0x2510f470790>,\n",
       " <keras.src.layers.pooling.max_pooling2d.MaxPooling2D at 0x2511203c450>,\n",
       " <keras.src.layers.convolutional.conv2d.Conv2D at 0x2510f731a90>,\n",
       " <keras.src.layers.convolutional.conv2d.Conv2D at 0x25112093b90>,\n",
       " <keras.src.layers.convolutional.conv2d.Conv2D at 0x2511206d910>,\n",
       " <keras.src.layers.pooling.max_pooling2d.MaxPooling2D at 0x25111fed6d0>,\n",
       " <keras.src.layers.convolutional.conv2d.Conv2D at 0x25113076850>,\n",
       " <keras.src.layers.convolutional.conv2d.Conv2D at 0x25113074590>,\n",
       " <keras.src.layers.convolutional.conv2d.Conv2D at 0x25113076050>,\n",
       " <keras.src.layers.pooling.max_pooling2d.MaxPooling2D at 0x25112092790>]"
      ]
     },
     "execution_count": 8,
     "metadata": {},
     "output_type": "execute_result"
    }
   ],
   "source": [
    "model.layers"
   ]
  },
  {
   "cell_type": "code",
   "execution_count": 9,
   "metadata": {},
   "outputs": [],
   "source": [
    "flatten_layers=layers.Flatten()(model.output)\n",
    "flayers=layers.Dense(512,activation=\"relu\")(flatten_layers)\n",
    "output=layers.Dense(1,activation=\"sigmoid\")(flayers)"
   ]
  },
  {
   "cell_type": "code",
   "execution_count": 10,
   "metadata": {},
   "outputs": [],
   "source": [
    "model=Model(inputs=model.inputs,outputs=output)"
   ]
  },
  {
   "cell_type": "code",
   "execution_count": 11,
   "metadata": {},
   "outputs": [],
   "source": [
    "model.compile(loss=\"binary_crossentropy\",\n",
    "              optimizer=optimizers.RMSprop(learning_rate=1e-4),metrics=[\"accuracy\"])"
   ]
  },
  {
   "cell_type": "code",
   "execution_count": 12,
   "metadata": {},
   "outputs": [
    {
     "name": "stdout",
     "output_type": "stream",
     "text": [
      "Model: \"model\"\n",
      "_________________________________________________________________\n",
      " Layer (type)                Output Shape              Param #   \n",
      "=================================================================\n",
      " input_1 (InputLayer)        [(None, 224, 224, 3)]     0         \n",
      "                                                                 \n",
      " block1_conv1 (Conv2D)       (None, 224, 224, 64)      1792      \n",
      "                                                                 \n",
      " block1_conv2 (Conv2D)       (None, 224, 224, 64)      36928     \n",
      "                                                                 \n",
      " block1_pool (MaxPooling2D)  (None, 112, 112, 64)      0         \n",
      "                                                                 \n",
      " block2_conv1 (Conv2D)       (None, 112, 112, 128)     73856     \n",
      "                                                                 \n",
      " block2_conv2 (Conv2D)       (None, 112, 112, 128)     147584    \n",
      "                                                                 \n",
      " block2_pool (MaxPooling2D)  (None, 56, 56, 128)       0         \n",
      "                                                                 \n",
      " block3_conv1 (Conv2D)       (None, 56, 56, 256)       295168    \n",
      "                                                                 \n",
      " block3_conv2 (Conv2D)       (None, 56, 56, 256)       590080    \n",
      "                                                                 \n",
      " block3_conv3 (Conv2D)       (None, 56, 56, 256)       590080    \n",
      "                                                                 \n",
      " block3_pool (MaxPooling2D)  (None, 28, 28, 256)       0         \n",
      "                                                                 \n",
      " block4_conv1 (Conv2D)       (None, 28, 28, 512)       1180160   \n",
      "                                                                 \n",
      " block4_conv2 (Conv2D)       (None, 28, 28, 512)       2359808   \n",
      "                                                                 \n",
      " block4_conv3 (Conv2D)       (None, 28, 28, 512)       2359808   \n",
      "                                                                 \n",
      " block4_pool (MaxPooling2D)  (None, 14, 14, 512)       0         \n",
      "                                                                 \n",
      " block5_conv1 (Conv2D)       (None, 14, 14, 512)       2359808   \n",
      "                                                                 \n",
      " block5_conv2 (Conv2D)       (None, 14, 14, 512)       2359808   \n",
      "                                                                 \n",
      " block5_conv3 (Conv2D)       (None, 14, 14, 512)       2359808   \n",
      "                                                                 \n",
      " block5_pool (MaxPooling2D)  (None, 7, 7, 512)         0         \n",
      "                                                                 \n",
      " flatten (Flatten)           (None, 25088)             0         \n",
      "                                                                 \n",
      " dense (Dense)               (None, 512)               12845568  \n",
      "                                                                 \n",
      " dense_1 (Dense)             (None, 1)                 513       \n",
      "                                                                 \n",
      "=================================================================\n",
      "Total params: 27560769 (105.14 MB)\n",
      "Trainable params: 27560769 (105.14 MB)\n",
      "Non-trainable params: 0 (0.00 Byte)\n",
      "_________________________________________________________________\n"
     ]
    }
   ],
   "source": [
    "model.summary()"
   ]
  },
  {
   "cell_type": "code",
   "execution_count": 13,
   "metadata": {},
   "outputs": [],
   "source": [
    "train_directory=\"train\"\n",
    "validation_directory=\"validation\""
   ]
  },
  {
   "cell_type": "code",
   "execution_count": 14,
   "metadata": {},
   "outputs": [],
   "source": [
    "train_data_gen=ImageDataGenerator(rescale=1/255,\n",
    "                                  rotation_range=45,\n",
    "                                  width_shift_range=0.3,\n",
    "                                  height_shift_range=0.3,\n",
    "                                  shear_range=0.3,\n",
    "                                  horizontal_flip=True,\n",
    "                                  vertical_flip=True,\n",
    "                                  fill_mode=\"nearest\")\n",
    "valid_data_gen=ImageDataGenerator(rescale=1/255)   #hem train hem validtion verilerimizi normalize ettik"
   ]
  },
  {
   "cell_type": "code",
   "execution_count": 15,
   "metadata": {},
   "outputs": [
    {
     "name": "stdout",
     "output_type": "stream",
     "text": [
      "Found 1999 images belonging to 2 classes.\n",
      "Found 1000 images belonging to 2 classes.\n"
     ]
    }
   ],
   "source": [
    "train_generator=train_data_gen.flow_from_directory(train_directory,target_size=(224,224),\n",
    "                                                   batch_size=16,class_mode=\"binary\")\n",
    "validation_generator=valid_data_gen.flow_from_directory(validation_directory,target_size=(224,224),\n",
    "                                                   batch_size=16,class_mode=\"binary\")"
   ]
  },
  {
   "cell_type": "code",
   "execution_count": 17,
   "metadata": {},
   "outputs": [
    {
     "name": "stdout",
     "output_type": "stream",
     "text": [
      "Epoch 1/5\n",
      "125/125 [==============================] - 561s 4s/step - loss: 0.7120 - accuracy: 0.5013 - val_loss: 0.6932 - val_accuracy: 0.5000\n",
      "Epoch 2/5\n",
      "125/125 [==============================] - 549s 4s/step - loss: 0.6932 - accuracy: 0.5043 - val_loss: 0.6931 - val_accuracy: 0.5000\n",
      "Epoch 3/5\n",
      "125/125 [==============================] - 552s 4s/step - loss: 0.6932 - accuracy: 0.5003 - val_loss: 0.6931 - val_accuracy: 0.5000\n",
      "Epoch 4/5\n",
      "125/125 [==============================] - 832s 7s/step - loss: 0.6932 - accuracy: 0.5003 - val_loss: 0.6931 - val_accuracy: 0.5000\n",
      "Epoch 5/5\n",
      "125/125 [==============================] - 809s 6s/step - loss: 0.6932 - accuracy: 0.5003 - val_loss: 0.6931 - val_accuracy: 0.5000\n",
      "işlem tamam\n"
     ]
    }
   ],
   "source": [
    "history=model.fit(train_generator,epochs=5,\n",
    "                  validation_data=validation_generator)\n",
    "print(\"işlem tamam\")"
   ]
  },
  {
   "cell_type": "code",
   "execution_count": null,
   "metadata": {},
   "outputs": [],
   "source": [
    "#there is a chrome extension called #faktun that allows you to easily download photos from the web, it is useful when creating datasets."
   ]
  }
 ],
 "metadata": {
  "kernelspec": {
   "display_name": "base",
   "language": "python",
   "name": "python3"
  },
  "language_info": {
   "codemirror_mode": {
    "name": "ipython",
    "version": 3
   },
   "file_extension": ".py",
   "mimetype": "text/x-python",
   "name": "python",
   "nbconvert_exporter": "python",
   "pygments_lexer": "ipython3",
   "version": "3.11.3"
  }
 },
 "nbformat": 4,
 "nbformat_minor": 2
}
