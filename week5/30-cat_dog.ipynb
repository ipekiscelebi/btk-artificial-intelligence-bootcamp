{
 "cells": [
  {
   "cell_type": "code",
   "execution_count": 1,
   "metadata": {},
   "outputs": [],
   "source": [
    "from keras import layers\n",
    "from keras.models import Sequential"
   ]
  },
  {
   "cell_type": "code",
   "execution_count": null,
   "metadata": {},
   "outputs": [],
   "source": [
    "model=Sequential()\n",
    "model.add(layers.Conv2D(32,(3,3),activation=\"relu\",input_shape=(150,150,3))) #32 tane filtre 3x3lük her bi fotoya fotoları çok da küçültmeden 150x150\n",
    "model.add(layers.MaxPool2D(2,2)) #görüntü boyutunu küçülttük 74x74 oldu çünkü padding apmıyoruz 2 pixel kayıp\n",
    "\n",
    "model.add(layers.Conv2D(64,(3,3),activation=\"relu\")) #64 tane filtre 3x3lük\n",
    "model.add(layers.MaxPool2D(2,2))\n",
    "\n",
    "model.add(layers.Conv2D(128,(3,3),activation=\"relu\")) #128 tane filtre 3x3lük\n",
    "model.add(layers.MaxPool2D(2,2))\n",
    "\n",
    "model.add(layers.Conv2D(128,(3,3),activation=\"relu\")) #128 tane filtre 3x3lük\n",
    "model.add(layers.Flatten())\n",
    "\n",
    "model.add(layers.Dense(512,activation=\"relu\"))  #512 tane nöronu dizdik\n",
    "model.add(layers.Dense(1,activation=\"sigmoid\"))   #softmax kullanıcak olsaydık 2 yazardık ama şuan sigmoid kullanıyoruz binary cross entropy olduğu için 1 yazıyruz"
   ]
  },
  {
   "cell_type": "code",
   "execution_count": null,
   "metadata": {},
   "outputs": [],
   "source": [
    "model.summary()"
   ]
  },
  {
   "cell_type": "code",
   "execution_count": null,
   "metadata": {},
   "outputs": [],
   "source": [
    "from tensorflow.keras import optimizers\n",
    "model.compile(loss=\"binary_crossentropy\",\n",
    "              optimizer=optimizers.Adam(learning_rate=1e-4),\n",
    "              metrics=[\"accuracy\"])  #daha detaylı öğrenmesi için lr için 0.01 varsayılanı değil de 0.0001 yani 1e-4 kullanıyoruz daha yavaş ama daha iyi öğrenir"
   ]
  },
  {
   "cell_type": "code",
   "execution_count": 8,
   "metadata": {},
   "outputs": [],
   "source": [
    "from keras.preprocessing.image import ImageDataGenerator\n",
    "train_data_gen=ImageDataGenerator(rescale=1/255)\n",
    "valid_data_gen=ImageDataGenerator(rescale=1/255)"
   ]
  },
  {
   "cell_type": "code",
   "execution_count": 2,
   "metadata": {},
   "outputs": [],
   "source": [
    "train_directory=\"train\"\n",
    "valid_directory=\"validation\""
   ]
  },
  {
   "cell_type": "code",
   "execution_count": 13,
   "metadata": {},
   "outputs": [
    {
     "name": "stdout",
     "output_type": "stream",
     "text": [
      "Found 1999 images belonging to 2 classes.\n",
      "Found 1000 images belonging to 2 classes.\n"
     ]
    }
   ],
   "source": [
    "train_generator=train_data_gen.flow_from_directory(train_directory, target_size=(150,150),  #size yükske olduğu için modelin kapladığı yer fazla olacak!!\n",
    "                                                   batch_size=20,\n",
    "                                                   class_mode=\"binary\")\n",
    "valid_generator=valid_data_gen.flow_from_directory(valid_directory, target_size=(150,150),\n",
    "                                                   batch_size=20,\n",
    "                                                   class_mode=\"binary\")"
   ]
  },
  {
   "cell_type": "code",
   "execution_count": null,
   "metadata": {},
   "outputs": [],
   "source": [
    "history=model.fit(train_generator,epochs=20,\n",
    "                  validation_data=valid_generator,\n",
    "                  validation_steps=50)"
   ]
  },
  {
   "cell_type": "code",
   "execution_count": null,
   "metadata": {},
   "outputs": [],
   "source": [
    "import matplotlib.pyplot as plt\n",
    "import numpy as np \n",
    "plt.style.use(\"seaborn-darkgrid\")\n",
    "plt.figure()\n",
    "epochs=20\n",
    "plt.plot(np.arange(0,epochs),history.history[\"loss\"],label=\"train_loss\")\n",
    "plt.plot(np.arange(0,epochs),history.history[\"val_loss\"],label=\"val_loss\")\n",
    "plt.plot(np.arange(0,epochs),history.history[\"accuracy\"],label=\"accuracy\")\n",
    "plt.plot(np.arange(0,epochs),history.history[\"val_accuracy\"],label=\"val_accuracy\")\n",
    "plt.title(\"train/loss acc\")\n",
    "plt.xlabel(\"20 epoch\")\n",
    "plt.ylabel(\"loss_acc\")\n",
    "plt.legend()\n",
    "plt.show()"
   ]
  },
  {
   "cell_type": "code",
   "execution_count": null,
   "metadata": {},
   "outputs": [],
   "source": [
    "model.save(\"model1.keras\")"
   ]
  },
  {
   "cell_type": "code",
   "execution_count": 3,
   "metadata": {},
   "outputs": [],
   "source": [
    "model2=Sequential()\n",
    "model2.add(layers.Conv2D(32,(3,3),activation=\"relu\",input_shape=(150,150,3))) #32 tane filtre 3x3lük her bi fotoya fotoları çok da küçültmeden 150x150\n",
    "model2.add(layers.MaxPool2D(2,2)) #görüntü boyutunu küçülttük 74x74 oldu çünkü padding apmıyoruz 2 pixel kayıp\n",
    "\n",
    "model2.add(layers.Conv2D(64,(3,3),activation=\"relu\")) # 64 tane filtre 3x3lük\n",
    "model2.add(layers.MaxPool2D(2,2))\n",
    "\n",
    "model2.add(layers.Conv2D(128,(3,3),activation=\"relu\")) # 128 tane filtre 3x3lük\n",
    "model2.add(layers.MaxPool2D(2,2))\n",
    "\n",
    "model2.add(layers.Conv2D(128,(3,3),activation=\"relu\")) # 128 tane filtre 3x3lük\n",
    "model2.add(layers.Flatten())\n",
    "model2.add(layers.Dropout(0.25))      #rastgele sinir ağlarından bazılarının bağlanmasını engeller 0.25 demek modelin %25ini dropla\n",
    "\n",
    "model2.add(layers.Dense(512,activation=\"relu\"))  # 512 tane nöronu dizdik\n",
    "model2.add(layers.Dense(1,activation=\"sigmoid\"))   #softmax kullanıcak olsaydık 2 yazardık ama şuan sigmoid kullanıyoruz binary cross entropy olduğu için 1 yazıyruz"
   ]
  },
  {
   "cell_type": "code",
   "execution_count": 4,
   "metadata": {},
   "outputs": [
    {
     "name": "stdout",
     "output_type": "stream",
     "text": [
      "Model: \"sequential\"\n",
      "_________________________________________________________________\n",
      " Layer (type)                Output Shape              Param #   \n",
      "=================================================================\n",
      " conv2d (Conv2D)             (None, 148, 148, 32)      896       \n",
      "                                                                 \n",
      " max_pooling2d (MaxPooling2  (None, 74, 74, 32)        0         \n",
      " D)                                                              \n",
      "                                                                 \n",
      " conv2d_1 (Conv2D)           (None, 72, 72, 64)        18496     \n",
      "                                                                 \n",
      " max_pooling2d_1 (MaxPoolin  (None, 36, 36, 64)        0         \n",
      " g2D)                                                            \n",
      "                                                                 \n",
      " conv2d_2 (Conv2D)           (None, 34, 34, 128)       73856     \n",
      "                                                                 \n",
      " max_pooling2d_2 (MaxPoolin  (None, 17, 17, 128)       0         \n",
      " g2D)                                                            \n",
      "                                                                 \n",
      " conv2d_3 (Conv2D)           (None, 15, 15, 128)       147584    \n",
      "                                                                 \n",
      " flatten (Flatten)           (None, 28800)             0         \n",
      "                                                                 \n",
      " dropout (Dropout)           (None, 28800)             0         \n",
      "                                                                 \n",
      " dense (Dense)               (None, 512)               14746112  \n",
      "                                                                 \n",
      " dense_1 (Dense)             (None, 1)                 513       \n",
      "                                                                 \n",
      "=================================================================\n",
      "Total params: 14987457 (57.17 MB)\n",
      "Trainable params: 14987457 (57.17 MB)\n",
      "Non-trainable params: 0 (0.00 Byte)\n",
      "_________________________________________________________________\n"
     ]
    }
   ],
   "source": [
    "model2.summary()"
   ]
  },
  {
   "cell_type": "code",
   "execution_count": 5,
   "metadata": {},
   "outputs": [],
   "source": [
    "from tensorflow.keras import optimizers\n",
    "model2.compile(loss=\"binary_crossentropy\",\n",
    "              optimizer=optimizers.Adam(learning_rate=1e-4),\n",
    "              metrics=[\"accuracy\"])  #daha detaylı öğrenmesi için lr için 0.01 varsayılanı değil de 0.0001 yani 1e-4 kullanıyoruz daha yavaş ama daha iyi öğrenir"
   ]
  },
  {
   "cell_type": "code",
   "execution_count": null,
   "metadata": {},
   "outputs": [],
   "source": [
    "from keras.callbacks import EarlyStopping\n",
    "early_stopping=EarlyStopping(monitor=\"val_loss\",patience=5)  #val loss değeri 5 kere düşmezse durdurucak demek"
   ]
  },
  {
   "cell_type": "code",
   "execution_count": 6,
   "metadata": {},
   "outputs": [],
   "source": [
    "model2.compile(loss=\"binary_crossentropy\",\n",
    "              optimizer=optimizers.Adam(learning_rate=1e-4),\n",
    "              metrics=[\"accuracy\"])"
   ]
  },
  {
   "cell_type": "code",
   "execution_count": 9,
   "metadata": {},
   "outputs": [],
   "source": [
    "#data augmentation in keras\n",
    "train_data_gen1=ImageDataGenerator(rescale=1/255,\n",
    "                                   rotation_range=45,\n",
    "                                   width_shift_range=0.3,\n",
    "                                   height_shift_range=0.3,\n",
    "                                   shear_range=0.3,\n",
    "                                   horizontal_flip=True,\n",
    "                                   vertical_flip=True,\n",
    "                                   fill_mode=\"nearest\")   #rastgeke seçtiği bir fotoyu 45 derece döndürecek, \n",
    "valid_data_gen1=ImageDataGenerator(rescale=1/255)"
   ]
  },
  {
   "cell_type": "code",
   "execution_count": 10,
   "metadata": {},
   "outputs": [],
   "source": [
    "train_directory=\"train\"\n",
    "valid_directory=\"validation\""
   ]
  },
  {
   "cell_type": "code",
   "execution_count": 14,
   "metadata": {},
   "outputs": [
    {
     "name": "stdout",
     "output_type": "stream",
     "text": [
      "Found 1999 images belonging to 2 classes.\n",
      "Found 1000 images belonging to 2 classes.\n"
     ]
    }
   ],
   "source": [
    "train_generator1=train_data_gen1.flow_from_directory(train_directory,target_size=(150,150),\n",
    "                                                     batch_size=20,class_mode=\"binary\")\n",
    "validation_generator1=valid_data_gen1.flow_from_directory(valid_directory,target_size=(150,150),\n",
    "                                                     batch_size=20,class_mode=\"binary\")"
   ]
  },
  {
   "cell_type": "code",
   "execution_count": null,
   "metadata": {},
   "outputs": [],
   "source": [
    "history=model2.fit(train_generator1,epochs=80,steps_per_epoch=100,  \n",
    "                   validation_data=validation_generator1,validation_steps=50 \n",
    "                   )     # 2000/20 yapyoruz step per epoch için"
   ]
  },
  {
   "cell_type": "code",
   "execution_count": null,
   "metadata": {},
   "outputs": [],
   "source": [
    "import matplotlib.pyplot as plt\n",
    "import numpy as np \n",
    "plt.style.use(\"seaborn-darkgrid\")\n",
    "plt.figure()\n",
    "epochs=80\n",
    "plt.plot(np.arange(0,epochs),history.history[\"loss\"],label=\"train_loss\")\n",
    "plt.plot(np.arange(0,epochs),history.history[\"val_loss\"],label=\"val_loss\")\n",
    "plt.plot(np.arange(0,epochs),history.history[\"accuracy\"],label=\"accuracy\")\n",
    "plt.plot(np.arange(0,epochs),history.history[\"val_accuracy\"],label=\"val_accuracy\")\n",
    "plt.title(\"train/loss acc\")\n",
    "plt.xlabel(\"80 epoch\") \n",
    "plt.ylabel(\"loss_acc\")\n",
    "plt.legend()\n",
    "plt.show()\n"
   ]
  },
  {
   "cell_type": "code",
   "execution_count": null,
   "metadata": {},
   "outputs": [],
   "source": [
    "model2.save(\"deneme2.keras\")"
   ]
  },
  {
   "cell_type": "code",
   "execution_count": 16,
   "metadata": {},
   "outputs": [],
   "source": [
    "from keras.preprocessing.image import load_img, img_to_array\n",
    "from keras.models import load_model\n",
    "import numpy as np"
   ]
  },
  {
   "cell_type": "code",
   "execution_count": 17,
   "metadata": {},
   "outputs": [],
   "source": [
    "model_path=\"denem2.keras\"\n",
    "resim1=\"test/dogs/1511.jpg\"\n",
    "resim2=\"test/cats/1513.jpg\""
   ]
  },
  {
   "cell_type": "code",
   "execution_count": null,
   "metadata": {},
   "outputs": [],
   "source": [
    "model_son=load_model(model_path)"
   ]
  },
  {
   "cell_type": "code",
   "execution_count": null,
   "metadata": {},
   "outputs": [],
   "source": [
    "test_img=load_img(resim1)"
   ]
  },
  {
   "cell_type": "code",
   "execution_count": null,
   "metadata": {},
   "outputs": [],
   "source": [
    "print(test_img)\n",
    "test_img"
   ]
  },
  {
   "cell_type": "code",
   "execution_count": null,
   "metadata": {},
   "outputs": [],
   "source": [
    "test_img=np.expand_dims(test_img,axis=0)"
   ]
  },
  {
   "cell_type": "code",
   "execution_count": null,
   "metadata": {},
   "outputs": [],
   "source": [
    "train_generator1.class_indices"
   ]
  },
  {
   "cell_type": "code",
   "execution_count": null,
   "metadata": {},
   "outputs": [],
   "source": [
    "result=model_son.predict(test_img)"
   ]
  },
  {
   "cell_type": "code",
   "execution_count": null,
   "metadata": {},
   "outputs": [],
   "source": [
    "result"
   ]
  },
  {
   "cell_type": "code",
   "execution_count": null,
   "metadata": {},
   "outputs": [],
   "source": [
    "if result[0][0]>0.5:\n",
    "    label=\"köpek\"\n",
    "    print(label)\n",
    "else:\n",
    "    label=\"kedi\"\n",
    "    print(label)"
   ]
  },
  {
   "cell_type": "code",
   "execution_count": null,
   "metadata": {},
   "outputs": [],
   "source": [
    "import cv2\n",
    "test_img=cv2.imread(resim1)\n",
    "font=cv2.FONT_HERSHEY_SIMPLEX\n",
    "cv2.putText(test_img,label,(20,30),font,1,(255,0,0),3)\n",
    "cv2.imshow(\"pencere\",test_img)\n",
    "cv2.waitKey(0)\n",
    "cv2.destroyAllWindows()"
   ]
  },
  {
   "cell_type": "code",
   "execution_count": null,
   "metadata": {},
   "outputs": [],
   "source": [
    "cap=cv.VideoCapture(0)   # 0 dahili kamerayı belirtir\n",
    "\n",
    "while True:\n",
    "    ret,frame=cap.read()\n",
    "    if ret == False:\n",
    "        break\n",
    "    cv2.putText(test_img,label,(20,30),font,1,(255,0,0),3)\n",
    "    cv2.imshow('frame',frame)\n",
    "    if cv2.waitKey(1)==ord('q'):\n",
    "        break\n",
    "cap.release()\n",
    "#bitmedi kod"
   ]
  }
 ],
 "metadata": {
  "kernelspec": {
   "display_name": "Python 3",
   "language": "python",
   "name": "python3"
  },
  "language_info": {
   "codemirror_mode": {
    "name": "ipython",
    "version": 3
   },
   "file_extension": ".py",
   "mimetype": "text/x-python",
   "name": "python",
   "nbconvert_exporter": "python",
   "pygments_lexer": "ipython3",
   "version": "3.11.3"
  }
 },
 "nbformat": 4,
 "nbformat_minor": 2
}
