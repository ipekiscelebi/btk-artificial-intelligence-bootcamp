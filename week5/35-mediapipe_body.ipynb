{
 "cells": [
  {
   "cell_type": "code",
   "execution_count": null,
   "metadata": {},
   "outputs": [],
   "source": [
    "import cv2\n",
    "import mediapipe as mp\n",
    "import time"
   ]
  },
  {
   "cell_type": "code",
   "execution_count": null,
   "metadata": {},
   "outputs": [],
   "source": [
    "mp_pose=mp.solutions.pose\n",
    "mp_drawing=mp.solutions.drawing_utils\n",
    "counter=0\n",
    "pose=mp_pose.Pose(min_detection_confidence=0.5,min_tracking_confidence=0.5)\n",
    "cap=cv2.VideoCapture(0)"
   ]
  },
  {
   "cell_type": "code",
   "execution_count": null,
   "metadata": {},
   "outputs": [],
   "source": [
    "while cap.isOpened:\n",
    "    ret,frame=cap.read()\n",
    "    frame=cv2.flip(frame,1) \n",
    "    if not ret:\n",
    "        break\n",
    "    \n",
    "    rgb=cv2.cvtColor(frame,cv2.COLOR_BGR2RGB)\n",
    "    results=pose.process(rgb)\n",
    "    \n",
    "    if results.pose_landmarks:\n",
    "        mp_drawing.draw_landmarks(frame,results.pose_landmarks,mp_pose.POSE_CONNECTIONS)\n",
    "        \n",
    "    yuk,gen,_=frame.shape\n",
    "    nose_landmark=results.pose_landmarks.landmark[0]\n",
    "    nose_x=int(nose_landmark.x*gen)\n",
    "    nose_y=int(nose_landmark.y*yuk)\n",
    "    cv2.circle(frame,(nose_x,nose_y),5,(255,0,0),-1)    #girdiğimiz 5 çizddiğimiz dairenin çapıdır\n",
    "    \n",
    "    if nose_y<=50:\n",
    "        counter+=1\n",
    "        time.sleep(0.5)\n",
    "    cv2.putText(frame,str(counter),(10,40),cv2.FONT_HERSHEY_SIMPLEX,1,(255,0,0),3)\n",
    "    \n",
    "    \n",
    "    start_point=(0,50)\n",
    "    end_point=(gen,50)\n",
    "    cv2.line(frame,start_point,end_point,(0,0,255),3)    #bir çizgi oluşturduk ki zıpladığımızda orayı geçip geçmediğimiz anlaşılsın\n",
    "    cv2.imshow(\"pen\",frame)\n",
    "    if cv2.waitKey(3) and 0xFF==(\"q\"):\n",
    "        break\n",
    "\n",
    "cap.release()   #kamerayı kapatması için\n",
    "cap.destroyAllWindows()"
   ]
  }
 ],
 "metadata": {
  "kernelspec": {
   "display_name": "Python 3",
   "language": "python",
   "name": "python3"
  },
  "language_info": {
   "codemirror_mode": {
    "name": "ipython",
    "version": 3
   },
   "file_extension": ".py",
   "mimetype": "text/x-python",
   "name": "python",
   "nbconvert_exporter": "python",
   "pygments_lexer": "ipython3",
   "version": "3.11.1"
  }
 },
 "nbformat": 4,
 "nbformat_minor": 2
}
