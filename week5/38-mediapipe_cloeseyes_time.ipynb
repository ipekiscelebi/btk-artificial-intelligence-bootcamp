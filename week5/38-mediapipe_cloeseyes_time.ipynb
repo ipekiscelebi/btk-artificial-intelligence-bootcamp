{
 "cells": [
  {
   "cell_type": "code",
   "execution_count": null,
   "metadata": {},
   "outputs": [],
   "source": [
    "import cv2\n",
    "import cvzone\n",
    "from cvzone.FaceMeshModule import FaceMeshDetector\n",
    "from cvzone.PlotModule import LivePlot\n",
    "import time"
   ]
  },
  {
   "cell_type": "code",
   "execution_count": null,
   "metadata": {},
   "outputs": [],
   "source": [
    "cap = cv2.VideoCapture(0)\n",
    "\n",
    "detector = FaceMeshDetector()\n",
    "ploty = LivePlot(540, 360, [10, 64])\n",
    "\n",
    "idlist = [22, 23, 24, 26, 110, 157, 158, 159, 160, 161, 130, 243]\n",
    "color = (0, 0, 255)\n",
    "\n",
    "ratiolist = []\n",
    "counter = 0\n",
    "goz = 0\n",
    "goz_kapali_baslangic = None\n",
    "uyari_suresi = 2  # Uyarı için gözün kapalı kalması gereken süre (saniye)"
   ]
  },
  {
   "cell_type": "code",
   "execution_count": null,
   "metadata": {},
   "outputs": [],
   "source": [
    "while True:\n",
    "    ret, frame = cap.read()\n",
    "    frame, faces = detector.findFaceMesh(frame, draw=False)\n",
    "\n",
    "    if faces:\n",
    "        face = faces[0]\n",
    "        for id in idlist:\n",
    "            cv2.circle(frame, face[id], 3, color, cv2.FILLED)\n",
    "\n",
    "        leftup = face[159]\n",
    "        leftdown = face[23]\n",
    "        leftleft = face[130]\n",
    "        leftright = face[243]\n",
    "\n",
    "        length_ver, _ = detector.findDistance(leftup, leftdown)\n",
    "        length_hor, _ = detector.findDistance(leftleft, leftright)\n",
    "\n",
    "        cv2.line(frame, leftup, leftdown, (0, 255, 0), 3)\n",
    "        cv2.line(frame, leftleft, leftright, (0, 255, 0), 3)\n",
    "\n",
    "        ratio = int((length_ver / length_hor) * 100)\n",
    "        ratiolist.append(ratio)\n",
    "\n",
    "        if len(ratiolist) > 3:\n",
    "            ratio = sum(ratiolist[-4:]) // 4\n",
    "\n",
    "        if ratio < 35:\n",
    "            if goz_kapali_baslangic is None:\n",
    "                goz_kapali_baslangic = time.time()\n",
    "            else:\n",
    "                goz_kapali_sure = time.time() - goz_kapali_baslangic\n",
    "                if goz_kapali_sure > uyari_suresi:\n",
    "                    cvzone.putTextRect(frame, \"Uyari: Goz uzun sure kapali!\", (50, 150), scale=1.5, thickness=2, colorR=(0, 0, 255))\n",
    "        else:\n",
    "            if goz_kapali_baslangic is not None and time.time() - goz_kapali_baslangic > 0.3:\n",
    "                goz += 1\n",
    "            goz_kapali_baslangic = None\n",
    "            color = (0, 0, 255)\n",
    "\n",
    "        cvzone.putTextRect(frame, f\"Blink Count: {goz}\", (50, 100), colorR=color)\n",
    "\n",
    "    cv2.imshow(\"Frame\", frame)\n",
    "\n",
    "    if cv2.waitKey(1) & 0xFF == ord(\"q\"):\n",
    "        break\n",
    "\n",
    "cap.release()\n",
    "cv2.destroyAllWindows()\n"
   ]
  }
 ],
 "metadata": {
  "language_info": {
   "name": "python"
  }
 },
 "nbformat": 4,
 "nbformat_minor": 2
}
