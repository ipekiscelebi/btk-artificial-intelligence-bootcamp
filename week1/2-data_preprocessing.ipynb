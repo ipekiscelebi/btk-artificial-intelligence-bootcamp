{
 "cells": [
  {
   "cell_type": "code",
   "execution_count": 1,
   "id": "98635e49-74a3-441e-b39c-d48d2dd8f686",
   "metadata": {},
   "outputs": [],
   "source": [
    "from sklearn.preprocessing import LabelEncoder\n",
    "import pandas as pd"
   ]
  },
  {
   "cell_type": "code",
   "execution_count": null,
   "id": "86f612b3",
   "metadata": {},
   "outputs": [],
   "source": [
    "category = [\"red\", \"blue\", \"green\", \"blue\", \"green\", \"red\", \"blue\", \"green\"]\n",
    "data = pd.DataFrame(category, columns = [\"colors\"])"
   ]
  },
  {
   "cell_type": "code",
   "execution_count": null,
   "id": "7e28160d",
   "metadata": {},
   "outputs": [],
   "source": [
    "data"
   ]
  },
  {
   "cell_type": "code",
   "execution_count": null,
   "id": "e3656649",
   "metadata": {},
   "outputs": [],
   "source": [
    "lb = LabelEncoder()\n",
    "data[\"encoded\"] = lb.fit_transform(data[\"colors\"])"
   ]
  },
  {
   "cell_type": "code",
   "execution_count": null,
   "id": "b91af76d",
   "metadata": {},
   "outputs": [],
   "source": [
    "data"
   ]
  },
  {
   "cell_type": "code",
   "execution_count": 2,
   "id": "769d1c93",
   "metadata": {},
   "outputs": [],
   "source": [
    "from sklearn.preprocessing import OneHotEncoder"
   ]
  },
  {
   "cell_type": "code",
   "execution_count": 3,
   "id": "74bd0f53",
   "metadata": {},
   "outputs": [],
   "source": [
    "category1 = [\"red\", \"blue\", \"green\", \"purple\", \"green\", \"purple\", \"blue\", \"green\"]\n",
    "data1 = pd.DataFrame(category1, columns = [\"colors\"])"
   ]
  },
  {
   "cell_type": "code",
   "execution_count": 4,
   "id": "ef0cfbd7",
   "metadata": {},
   "outputs": [
    {
     "data": {
      "text/html": [
       "<div>\n",
       "<style scoped>\n",
       "    .dataframe tbody tr th:only-of-type {\n",
       "        vertical-align: middle;\n",
       "    }\n",
       "\n",
       "    .dataframe tbody tr th {\n",
       "        vertical-align: top;\n",
       "    }\n",
       "\n",
       "    .dataframe thead th {\n",
       "        text-align: right;\n",
       "    }\n",
       "</style>\n",
       "<table border=\"1\" class=\"dataframe\">\n",
       "  <thead>\n",
       "    <tr style=\"text-align: right;\">\n",
       "      <th></th>\n",
       "      <th>colors</th>\n",
       "    </tr>\n",
       "  </thead>\n",
       "  <tbody>\n",
       "    <tr>\n",
       "      <th>0</th>\n",
       "      <td>red</td>\n",
       "    </tr>\n",
       "    <tr>\n",
       "      <th>1</th>\n",
       "      <td>blue</td>\n",
       "    </tr>\n",
       "    <tr>\n",
       "      <th>2</th>\n",
       "      <td>green</td>\n",
       "    </tr>\n",
       "    <tr>\n",
       "      <th>3</th>\n",
       "      <td>purple</td>\n",
       "    </tr>\n",
       "    <tr>\n",
       "      <th>4</th>\n",
       "      <td>green</td>\n",
       "    </tr>\n",
       "    <tr>\n",
       "      <th>5</th>\n",
       "      <td>purple</td>\n",
       "    </tr>\n",
       "    <tr>\n",
       "      <th>6</th>\n",
       "      <td>blue</td>\n",
       "    </tr>\n",
       "    <tr>\n",
       "      <th>7</th>\n",
       "      <td>green</td>\n",
       "    </tr>\n",
       "  </tbody>\n",
       "</table>\n",
       "</div>"
      ],
      "text/plain": [
       "   colors\n",
       "0     red\n",
       "1    blue\n",
       "2   green\n",
       "3  purple\n",
       "4   green\n",
       "5  purple\n",
       "6    blue\n",
       "7   green"
      ]
     },
     "execution_count": 4,
     "metadata": {},
     "output_type": "execute_result"
    }
   ],
   "source": [
    "data1"
   ]
  },
  {
   "cell_type": "code",
   "execution_count": 11,
   "id": "6dc95383",
   "metadata": {},
   "outputs": [
    {
     "name": "stderr",
     "output_type": "stream",
     "text": [
      "c:\\Users\\ipek\\AppData\\Local\\Programs\\Python\\Python311\\Lib\\site-packages\\sklearn\\preprocessing\\_encoders.py:972: FutureWarning: `sparse` was renamed to `sparse_output` in version 1.2 and will be removed in 1.4. `sparse_output` is ignored unless you leave `sparse` to its default value.\n",
      "  warnings.warn(\n"
     ]
    }
   ],
   "source": [
    "ohe = OneHotEncoder(sparse=False)      #one hot encoder's zeros are not stored so memory allocation is good and returns a numpy array\n",
    "encoded_data = ohe.fit_transform(data1[[\"colors\"]])  #fit_transform method returns a 2D array\n",
    "encoded_df = pd.DataFrame(encoded_data, columns=ohe.get_feature_names_out(input_features=[\"colors\"]))\n",
    "data1 = pd.concat([data1, encoded_df], axis=1)   "
   ]
  },
  {
   "cell_type": "code",
   "execution_count": 12,
   "id": "92a04d2a",
   "metadata": {},
   "outputs": [],
   "source": [
    "column_names = ohe.get_feature_names_out(input_features=[\"colors\"])"
   ]
  },
  {
   "cell_type": "code",
   "execution_count": 13,
   "id": "4cfad3aa",
   "metadata": {},
   "outputs": [
    {
     "data": {
      "text/plain": [
       "array(['colors_blue', 'colors_green', 'colors_purple', 'colors_red'],\n",
       "      dtype=object)"
      ]
     },
     "execution_count": 13,
     "metadata": {},
     "output_type": "execute_result"
    }
   ],
   "source": [
    "column_names"
   ]
  },
  {
   "cell_type": "code",
   "execution_count": 14,
   "id": "2ec89397",
   "metadata": {},
   "outputs": [
    {
     "data": {
      "text/html": [
       "<div>\n",
       "<style scoped>\n",
       "    .dataframe tbody tr th:only-of-type {\n",
       "        vertical-align: middle;\n",
       "    }\n",
       "\n",
       "    .dataframe tbody tr th {\n",
       "        vertical-align: top;\n",
       "    }\n",
       "\n",
       "    .dataframe thead th {\n",
       "        text-align: right;\n",
       "    }\n",
       "</style>\n",
       "<table border=\"1\" class=\"dataframe\">\n",
       "  <thead>\n",
       "    <tr style=\"text-align: right;\">\n",
       "      <th></th>\n",
       "      <th>colors</th>\n",
       "      <th>colors_blue</th>\n",
       "      <th>colors_green</th>\n",
       "      <th>colors_purple</th>\n",
       "      <th>colors_red</th>\n",
       "    </tr>\n",
       "  </thead>\n",
       "  <tbody>\n",
       "    <tr>\n",
       "      <th>0</th>\n",
       "      <td>red</td>\n",
       "      <td>0.0</td>\n",
       "      <td>0.0</td>\n",
       "      <td>0.0</td>\n",
       "      <td>1.0</td>\n",
       "    </tr>\n",
       "    <tr>\n",
       "      <th>1</th>\n",
       "      <td>blue</td>\n",
       "      <td>1.0</td>\n",
       "      <td>0.0</td>\n",
       "      <td>0.0</td>\n",
       "      <td>0.0</td>\n",
       "    </tr>\n",
       "    <tr>\n",
       "      <th>2</th>\n",
       "      <td>green</td>\n",
       "      <td>0.0</td>\n",
       "      <td>1.0</td>\n",
       "      <td>0.0</td>\n",
       "      <td>0.0</td>\n",
       "    </tr>\n",
       "    <tr>\n",
       "      <th>3</th>\n",
       "      <td>purple</td>\n",
       "      <td>0.0</td>\n",
       "      <td>0.0</td>\n",
       "      <td>1.0</td>\n",
       "      <td>0.0</td>\n",
       "    </tr>\n",
       "    <tr>\n",
       "      <th>4</th>\n",
       "      <td>green</td>\n",
       "      <td>0.0</td>\n",
       "      <td>1.0</td>\n",
       "      <td>0.0</td>\n",
       "      <td>0.0</td>\n",
       "    </tr>\n",
       "    <tr>\n",
       "      <th>5</th>\n",
       "      <td>purple</td>\n",
       "      <td>0.0</td>\n",
       "      <td>0.0</td>\n",
       "      <td>1.0</td>\n",
       "      <td>0.0</td>\n",
       "    </tr>\n",
       "    <tr>\n",
       "      <th>6</th>\n",
       "      <td>blue</td>\n",
       "      <td>1.0</td>\n",
       "      <td>0.0</td>\n",
       "      <td>0.0</td>\n",
       "      <td>0.0</td>\n",
       "    </tr>\n",
       "    <tr>\n",
       "      <th>7</th>\n",
       "      <td>green</td>\n",
       "      <td>0.0</td>\n",
       "      <td>1.0</td>\n",
       "      <td>0.0</td>\n",
       "      <td>0.0</td>\n",
       "    </tr>\n",
       "  </tbody>\n",
       "</table>\n",
       "</div>"
      ],
      "text/plain": [
       "   colors  colors_blue  colors_green  colors_purple  colors_red\n",
       "0     red          0.0           0.0            0.0         1.0\n",
       "1    blue          1.0           0.0            0.0         0.0\n",
       "2   green          0.0           1.0            0.0         0.0\n",
       "3  purple          0.0           0.0            1.0         0.0\n",
       "4   green          0.0           1.0            0.0         0.0\n",
       "5  purple          0.0           0.0            1.0         0.0\n",
       "6    blue          1.0           0.0            0.0         0.0\n",
       "7   green          0.0           1.0            0.0         0.0"
      ]
     },
     "execution_count": 14,
     "metadata": {},
     "output_type": "execute_result"
    }
   ],
   "source": [
    "data1"
   ]
  },
  {
   "cell_type": "code",
   "execution_count": 15,
   "id": "2ddff535",
   "metadata": {},
   "outputs": [
    {
     "name": "stderr",
     "output_type": "stream",
     "text": [
      "c:\\Users\\ipek\\AppData\\Local\\Programs\\Python\\Python311\\Lib\\site-packages\\sklearn\\preprocessing\\_encoders.py:972: FutureWarning: `sparse` was renamed to `sparse_output` in version 1.2 and will be removed in 1.4. `sparse_output` is ignored unless you leave `sparse` to its default value.\n",
      "  warnings.warn(\n"
     ]
    }
   ],
   "source": [
    "encoded_data = ohe.fit_transform(data1[[\"colors\"]])"
   ]
  },
  {
   "cell_type": "markdown",
   "id": "33381fa9",
   "metadata": {},
   "source": [
    "##----DATA SCALING(NORMALIZATION, STARDIZATION) the model may learn incorrectly because some data are larger in value than other data, so we normalise them all so that they compete on equal terms"
   ]
  },
  {
   "cell_type": "code",
   "execution_count": 16,
   "id": "e64720b1",
   "metadata": {},
   "outputs": [],
   "source": [
    "from sklearn.preprocessing import MinMaxScaler, StandardScaler\n",
    "import numpy as np"
   ]
  },
  {
   "cell_type": "code",
   "execution_count": 17,
   "id": "0369035a",
   "metadata": {},
   "outputs": [],
   "source": [
    "data = np.array( [[ 1.0, 2.0], \n",
    "                  [4.0, 5.0],\n",
    "                  [700, 800]\n",
    "])"
   ]
  },
  {
   "cell_type": "code",
   "execution_count": 18,
   "id": "1bf9e33a",
   "metadata": {},
   "outputs": [
    {
     "data": {
      "text/plain": [
       "array([[  1.,   2.],\n",
       "       [  4.,   5.],\n",
       "       [700., 800.]])"
      ]
     },
     "execution_count": 18,
     "metadata": {},
     "output_type": "execute_result"
    }
   ],
   "source": [
    "data"
   ]
  },
  {
   "cell_type": "code",
   "execution_count": 19,
   "id": "04c09ebb",
   "metadata": {},
   "outputs": [],
   "source": [
    "scalar_norm = MinMaxScaler()  \n",
    "data_norm = scalar_norm.fit_transform(data)"
   ]
  },
  {
   "cell_type": "code",
   "execution_count": 20,
   "id": "6bf28bf7",
   "metadata": {},
   "outputs": [
    {
     "data": {
      "text/plain": [
       "array([[0.        , 0.        ],\n",
       "       [0.00429185, 0.0037594 ],\n",
       "       [1.        , 1.        ]])"
      ]
     },
     "execution_count": 20,
     "metadata": {},
     "output_type": "execute_result"
    }
   ],
   "source": [
    "data_norm"
   ]
  },
  {
   "cell_type": "code",
   "execution_count": null,
   "id": "ff470aef",
   "metadata": {},
   "outputs": [],
   "source": [
    "scalar_norm = StandardScaler()    #improve the model performance\n",
    "data_standart = scalar_norm.fit_transform(data)"
   ]
  },
  {
   "cell_type": "code",
   "execution_count": null,
   "id": "144ff532",
   "metadata": {},
   "outputs": [],
   "source": [
    "data_standart"
   ]
  },
  {
   "cell_type": "markdown",
   "id": "f01fd0c6",
   "metadata": {},
   "source": [
    "missing values"
   ]
  },
  {
   "cell_type": "code",
   "execution_count": null,
   "id": "636ac947",
   "metadata": {},
   "outputs": [],
   "source": [
    "import numpy as np\n",
    "import pandas as pd    "
   ]
  },
  {
   "cell_type": "markdown",
   "id": "7bf77db3",
   "metadata": {},
   "source": [
    "-averaging the whole data set makes a lot of mistakes, if you have to take the average, take the average within the column itself\n",
    "-mod, median, arithmetic mean.\n",
    "-we can also fill in missing data with the previous or next value"
   ]
  },
  {
   "cell_type": "code",
   "execution_count": null,
   "id": "2db78ed5",
   "metadata": {},
   "outputs": [],
   "source": [
    "data = {\"A\": [1, 2, np.nan, 4, 5],\n",
    "        \"B\": [5, np.nan, np.nan, 8, 10],\n",
    "        \"C\": [100, 200, 300, 400, 500]}\n",
    "df=pd.DataFrame(data)\n",
    "df[\"A\"].fillna((df[\"A\"]).mean(),inplace=True)\n",
    "df[\"B\"].fillna((df[\"B\"]).mean(),inplace=True)"
   ]
  },
  {
   "cell_type": "code",
   "execution_count": null,
   "id": "723bce47",
   "metadata": {},
   "outputs": [],
   "source": [
    "df"
   ]
  },
  {
   "cell_type": "code",
   "execution_count": null,
   "id": "2c20d51f",
   "metadata": {},
   "outputs": [],
   "source": [
    "df=pd.DataFrame(data)\n",
    "df[\"A\"].fillna((df[\"A\"]).mode()[0],inplace=True)\n",
    "df[\"B\"].fillna((df[\"B\"]).mode()[0],inplace=True)"
   ]
  },
  {
   "cell_type": "code",
   "execution_count": null,
   "id": "22be378a",
   "metadata": {},
   "outputs": [],
   "source": [
    "df"
   ]
  },
  {
   "cell_type": "code",
   "execution_count": null,
   "id": "b25b58de",
   "metadata": {},
   "outputs": [],
   "source": [
    "df=pd.DataFrame(data)\n",
    "df[\"A\"].fillna((df[\"A\"]).median(),inplace=True)\n",
    "df[\"B\"].fillna((df[\"B\"]).median(),inplace=True)"
   ]
  },
  {
   "cell_type": "code",
   "execution_count": null,
   "id": "0e89943f",
   "metadata": {},
   "outputs": [],
   "source": [
    "df"
   ]
  },
  {
   "cell_type": "markdown",
   "id": "4877582c",
   "metadata": {},
   "source": [
    "dataset division-train, test, validation"
   ]
  },
  {
   "cell_type": "code",
   "execution_count": null,
   "id": "8ad28acb",
   "metadata": {},
   "outputs": [],
   "source": [
    "import numpy as np\n",
    "import pandas as pd"
   ]
  },
  {
   "cell_type": "code",
   "execution_count": null,
   "id": "5f73d2df",
   "metadata": {},
   "outputs": [],
   "source": [
    "np.random.seed(0)      #randomly selected data should always be selected in the same way to avoid splitting different photos after each split"
   ]
  },
  {
   "cell_type": "code",
   "execution_count": null,
   "id": "cf9415c5",
   "metadata": {},
   "outputs": [],
   "source": [
    "height = np.random.normal(170, 10, 30)  \n",
    "#returns a total of 30 random numbers with a mean value of 170 and a standard deviation of 10"
   ]
  },
  {
   "cell_type": "code",
   "execution_count": null,
   "id": "5d8e4178",
   "metadata": {},
   "outputs": [],
   "source": [
    "height"
   ]
  },
  {
   "cell_type": "code",
   "execution_count": null,
   "id": "2e554003",
   "metadata": {},
   "outputs": [],
   "source": [
    "weight = np.random.normal(70, 10, 30)"
   ]
  },
  {
   "cell_type": "code",
   "execution_count": null,
   "id": "2655c024",
   "metadata": {},
   "outputs": [],
   "source": [
    "data = pd.DataFrame({\"Height\": height, \n",
    "                     \"Weight\": weight\n",
    "                    })"
   ]
  },
  {
   "cell_type": "code",
   "execution_count": null,
   "id": "85f3577a",
   "metadata": {},
   "outputs": [],
   "source": [
    "x = data.iloc[:,0]\n",
    "y = data.iloc[:,1]"
   ]
  },
  {
   "cell_type": "code",
   "execution_count": null,
   "id": "47a8a1d1",
   "metadata": {},
   "outputs": [],
   "source": [
    "from sklearn.model_selection import train_test_split"
   ]
  },
  {
   "cell_type": "code",
   "execution_count": null,
   "id": "2826370e",
   "metadata": {},
   "outputs": [],
   "source": [
    "xtrain, xtest, ytrain, ytest = train_test_split(x,y, test_size=0.2, random_state=5)"
   ]
  },
  {
   "cell_type": "code",
   "execution_count": null,
   "id": "6348d0a6",
   "metadata": {},
   "outputs": [],
   "source": [
    "xtest"
   ]
  },
  {
   "cell_type": "code",
   "execution_count": null,
   "id": "0032b395",
   "metadata": {},
   "outputs": [],
   "source": [
    "xtrain"
   ]
  },
  {
   "cell_type": "code",
   "execution_count": null,
   "id": "e6f7c368",
   "metadata": {},
   "outputs": [],
   "source": [
    "ytest"
   ]
  },
  {
   "cell_type": "code",
   "execution_count": null,
   "id": "b303db0e",
   "metadata": {},
   "outputs": [],
   "source": [
    "ytrain"
   ]
  }
 ],
 "metadata": {
  "kernelspec": {
   "display_name": "Python 3 (ipykernel)",
   "language": "python",
   "name": "python3"
  },
  "language_info": {
   "codemirror_mode": {
    "name": "ipython",
    "version": 3
   },
   "file_extension": ".py",
   "mimetype": "text/x-python",
   "name": "python",
   "nbconvert_exporter": "python",
   "pygments_lexer": "ipython3",
   "version": "3.11.1"
  }
 },
 "nbformat": 4,
 "nbformat_minor": 5
}
