{
 "cells": [
  {
   "cell_type": "code",
   "execution_count": 1,
   "metadata": {},
   "outputs": [
    {
     "ename": "ModuleNotFoundError",
     "evalue": "No module named 'cvzone'",
     "output_type": "error",
     "traceback": [
      "\u001b[1;31m---------------------------------------------------------------------------\u001b[0m",
      "\u001b[1;31mModuleNotFoundError\u001b[0m                       Traceback (most recent call last)",
      "Cell \u001b[1;32mIn[1], line 2\u001b[0m\n\u001b[0;32m      1\u001b[0m \u001b[38;5;28;01mimport\u001b[39;00m \u001b[38;5;21;01mcv2\u001b[39;00m\n\u001b[1;32m----> 2\u001b[0m \u001b[38;5;28;01mimport\u001b[39;00m \u001b[38;5;21;01mcvzone\u001b[39;00m\n\u001b[0;32m      3\u001b[0m \u001b[38;5;28;01mfrom\u001b[39;00m \u001b[38;5;21;01mcvzone\u001b[39;00m\u001b[38;5;21;01m.\u001b[39;00m\u001b[38;5;21;01mFaceMeshModule\u001b[39;00m \u001b[38;5;28;01mimport\u001b[39;00m FaceMeshDetector\n",
      "\u001b[1;31mModuleNotFoundError\u001b[0m: No module named 'cvzone'"
     ]
    }
   ],
   "source": [
    "import cv2\n",
    "import cvzone\n",
    "from cvzone.FaceMeshModule import FaceMeshDetector"
   ]
  },
  {
   "cell_type": "code",
   "execution_count": null,
   "metadata": {},
   "outputs": [],
   "source": [
    "cap=cv2.VideoCapture(0)\n",
    "detector=FaceMeshDetector()\n",
    "color=(0,0,255)\n",
    "idlist=[22,23,24,26,110,157,158,159,160,161,130,243]"
   ]
  },
  {
   "cell_type": "code",
   "execution_count": null,
   "metadata": {},
   "outputs": [],
   "source": [
    "counter=0\n",
    "goz=0\n",
    "\n",
    "while True:\n",
    "    ret,frame=cap.read()\n",
    "    frame=cv2.flip(frame, 1)\n",
    "    frame,faces=detector.findFaceMesh(frame,draw=False)\n",
    "    \n",
    "    if faces:\n",
    "        face=faces[0]\n",
    "        for id in idlist:\n",
    "            cv2.circle(frame, face[id], 3, color,-1)\n",
    "        \n",
    "        leftup=face[159]\n",
    "        leftdown=face[23]\n",
    "        leftleft=face[130]\n",
    "        leftright=face[243]\n",
    "        \n",
    "        lengtver,_=detector.findDistance(leftup, leftdown)\n",
    "        lengthor,_=detector.findDistance(leftleft, leftright)\n",
    "        \n",
    "        cv2.line(frame,leftup,leftdown,(0,255,0),3)\n",
    "        cv2.line(frame,leftleft,leftright,(0,255,0),3)\n",
    "        \n",
    "        ratio=int((lengtver/lengthor)*100)\n",
    "        \n",
    "    \n",
    "        if ratio<35 and counter==0:\n",
    "            goz+=1\n",
    "            counter=1\n",
    "        if counter!=0:\n",
    "            counter+=1\n",
    "            if counter>35:\n",
    "                counter=0\n",
    "        print(goz)\n",
    "\n",
    "        cv2.putText(frame, str(goz), (10,30), cv2.FONT_HERSHEY_SIMPLEX, 1, color,3)\n",
    "    cv2.imshow(\"winname\", frame)\n",
    "    if cv2.waitKey(3) & 0xFF==ord(\"q\"):\n",
    "        break\n",
    "    \n",
    "cap.release()\n",
    "cv2.destroyAllWindows()"
   ]
  }
 ],
 "metadata": {
  "kernelspec": {
   "display_name": "Python 3",
   "language": "python",
   "name": "python3"
  },
  "language_info": {
   "codemirror_mode": {
    "name": "ipython",
    "version": 3
   },
   "file_extension": ".py",
   "mimetype": "text/x-python",
   "name": "python",
   "nbconvert_exporter": "python",
   "pygments_lexer": "ipython3",
   "version": "3.11.1"
  }
 },
 "nbformat": 4,
 "nbformat_minor": 2
}
