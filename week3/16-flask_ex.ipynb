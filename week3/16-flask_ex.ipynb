{
 "cells": [
  {
   "cell_type": "code",
   "execution_count": 1,
   "metadata": {},
   "outputs": [],
   "source": [
    "import pickle\n",
    "with open(\"scaler.pkl\",\"rb\") as file:\n",
    "    load_sc=pickle.load(file)"
   ]
  },
  {
   "cell_type": "code",
   "execution_count": 2,
   "metadata": {},
   "outputs": [],
   "source": [
    "with open(\"model.pkl\",\"rb\") as file:\n",
    "    load_model=pickle.load(file)"
   ]
  },
  {
   "cell_type": "code",
   "execution_count": 3,
   "metadata": {},
   "outputs": [
    {
     "name": "stdout",
     "output_type": "stream",
     "text": [
      "[1]\n"
     ]
    },
    {
     "name": "stderr",
     "output_type": "stream",
     "text": [
      "c:\\Users\\ipek\\AppData\\Local\\Programs\\Python\\Python311\\Lib\\site-packages\\sklearn\\base.py:464: UserWarning: X does not have valid feature names, but StandardScaler was fitted with feature names\n",
      "  warnings.warn(\n"
     ]
    }
   ],
   "source": [
    "import numpy as np\n",
    "new_predict=load_model.predict(load_sc.transform(np.array([[6,148,72,35,0,33.6,0.627,50]])))\n",
    "print(new_predict)"
   ]
  },
  {
   "cell_type": "code",
   "execution_count": 4,
   "metadata": {},
   "outputs": [],
   "source": [
    "from flask import Flask, request, render_template"
   ]
  },
  {
   "cell_type": "code",
   "execution_count": 5,
   "metadata": {},
   "outputs": [
    {
     "name": "stdout",
     "output_type": "stream",
     "text": [
      " * Serving Flask app '__main__'\n",
      " * Debug mode: off\n"
     ]
    },
    {
     "name": "stderr",
     "output_type": "stream",
     "text": [
      "WARNING: This is a development server. Do not use it in a production deployment. Use a production WSGI server instead.\n",
      " * Running on http://127.0.0.1:5001\n",
      "Press CTRL+C to quit\n",
      "127.0.0.1 - - [24/Dec/2023 22:10:14] \"GET / HTTP/1.1\" 200 -\n",
      "127.0.0.1 - - [24/Dec/2023 22:10:14] \"GET /favicon.ico HTTP/1.1\" 404 -\n",
      "c:\\Users\\ipek\\AppData\\Local\\Programs\\Python\\Python311\\Lib\\site-packages\\sklearn\\base.py:464: UserWarning: X does not have valid feature names, but StandardScaler was fitted with feature names\n",
      "  warnings.warn(\n",
      "127.0.0.1 - - [24/Dec/2023 22:11:22] \"POST / HTTP/1.1\" 200 -\n",
      "c:\\Users\\ipek\\AppData\\Local\\Programs\\Python\\Python311\\Lib\\site-packages\\sklearn\\base.py:464: UserWarning: X does not have valid feature names, but StandardScaler was fitted with feature names\n",
      "  warnings.warn(\n",
      "127.0.0.1 - - [24/Dec/2023 22:12:41] \"POST / HTTP/1.1\" 200 -\n"
     ]
    }
   ],
   "source": [
    "app=Flask(__name__)\n",
    "@app.route(\"/\",methods=[\"GET\", \"POST\"])\n",
    "def get_predict():\n",
    "    prediction=None     \n",
    "    prediction1=None     \n",
    "    if request.method==\"POST\":\n",
    "        Pregnancies=float(request.form[\"Pregnancies\"])\n",
    "        Glucose=float(request.form[\"Glucose\"])\n",
    "        BloodPressure=float(request.form[\"BloodPressure\"])\n",
    "        SkinThickness=float(request.form[\"SkinThickness\"])\n",
    "        Insulin=float(request.form[\"Insulin\"])\n",
    "        BMI=float(request.form[\"BMI\"])\n",
    "        DiabetesPedigreeFunction=float(request.form[\"DiabetesPedigreeFunction\"])\n",
    "        Age=float(request.form[\"Age\"])\n",
    "        \n",
    "        \n",
    "        user_info=np.array([[Pregnancies, Glucose,BloodPressure, SkinThickness, Insulin, BMI,  DiabetesPedigreeFunction, Age ]])\n",
    "        prediction1=load_model.predict(load_sc.transform(user_info))\n",
    "    return render_template(\"web.html\", prediction=prediction1)\n",
    "\n",
    "\n",
    "if __name__== \"__main__\":\n",
    "    app.run(port=5001)"
   ]
  },
  {
   "cell_type": "code",
   "execution_count": null,
   "metadata": {},
   "outputs": [],
   "source": [
    "#by \"ngrok\" you can share on web site this project\n",
    "#provides directing the port \n",
    "\n",
    "# ngrok http port 5001 terminale yaz"
   ]
  }
 ],
 "metadata": {
  "kernelspec": {
   "display_name": "Python 3",
   "language": "python",
   "name": "python3"
  },
  "language_info": {
   "codemirror_mode": {
    "name": "ipython",
    "version": 3
   },
   "file_extension": ".py",
   "mimetype": "text/x-python",
   "name": "python",
   "nbconvert_exporter": "python",
   "pygments_lexer": "ipython3",
   "version": "3.11.1"
  }
 },
 "nbformat": 4,
 "nbformat_minor": 2
}
