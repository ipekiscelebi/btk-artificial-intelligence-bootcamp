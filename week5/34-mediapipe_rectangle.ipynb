{
 "cells": [
  {
   "cell_type": "code",
   "execution_count": 1,
   "metadata": {},
   "outputs": [],
   "source": [
    "import cv2\n",
    "import mediapipe as mp"
   ]
  },
  {
   "cell_type": "code",
   "execution_count": 3,
   "metadata": {},
   "outputs": [],
   "source": [
    "hand=mp.solutions.hands\n",
    "hand_sketch=mp.solutions.drawing_utils"
   ]
  },
  {
   "cell_type": "code",
   "execution_count": null,
   "metadata": {},
   "outputs": [],
   "source": [
    "cap=cv2.VideoCapture(0)"
   ]
  },
  {
   "cell_type": "code",
   "execution_count": null,
   "metadata": {},
   "outputs": [],
   "source": [
    "with hand.Hands(static_image_mode=False,max_num_hands=2,\n",
    "              min_detection_confidence=0.5,min_tracking_confidence=0.5) as eller:\n",
    "    while True:\n",
    "        ret,frame=cap.read()\n",
    "        frame=cv2.flip(frame,1)    #1 parametresiyle aynalama yapıyor yani kamera da sağ elini kaldırdığında sağ elini gösteriyor\n",
    "        rgb=cv2.cvtColor(frame, cv2.COLOR_BGR2RGB)\n",
    "        result=eller.process(rgb)\n",
    "        yuk,gen,_=frame.shape    #yükseklik,genişlik ve renk bilgisi\n",
    "        \n",
    "        if result.multi_hand_landmarks:     #ekranda bir el algılandıysa\n",
    "            for cizim in result.multi_hand_landmarks:\n",
    "                hand_sketch.draw_landmarks(frame,cizim,hand.HAND_CONNECTIONS)\n",
    "                koordinat=cizim.landmark[8]    #işaret parmağının ucunu alıcak\n",
    "                x=int(koordinat.x*gen) \n",
    "                y=int(koordinat.y*yuk)\n",
    "                cv2.circle(frame,(x,y),5,(255,0,0),-1)   #-1 içi dolu olmasını istediğim anlamına gelir\n",
    "\n",
    "                if 30<=x<=160 and 30<=y<=120:\n",
    "                        cv2.rectangle(frame,(30,30),(160,120),(0,0,255),-1)\n",
    "                \n",
    "                if 430<=x<=560 and 30<=y<=120:\n",
    "                        cv2.rectangle(frame,(430,30),(560,120),(0,255,0),-1)\n",
    "                \n",
    "        \n",
    "        cv2.rectangle(frame,(30,30),(160,120),(0,0,255),3)   #içi boş dikdörtgen oluşturduk\n",
    "        cv2.rectangle(frame,(430,30),(560,120),(0,255,0),3)   #içi boş dikdörtgen oluşturduk\n",
    "        cv2.putText(frame,\"left\",(30,20),cv2.FONT_HERSHEY_SIMPLEX,1,(0,0,255),2)    #sondaki 2 yazının kalınlaşmasını sağladı\n",
    "        cv2.putText(frame,\"right\",(430,20),cv2.FONT_HERSHEY_SIMPLEX,1,(0,255,0))     #putText methodu türkçe karakter tanımıyor\n",
    "        \n",
    "        cv2.imshow(\"pen\",frame)\n",
    "        if cv2.waitKey(3) & 0xFF==ord(\"q\"):\n",
    "            break\n",
    "cap.release()\n",
    "cv2.destroyAllWindows()\n",
    "        "
   ]
  }
 ],
 "metadata": {
  "kernelspec": {
   "display_name": "Python 3",
   "language": "python",
   "name": "python3"
  },
  "language_info": {
   "codemirror_mode": {
    "name": "ipython",
    "version": 3
   },
   "file_extension": ".py",
   "mimetype": "text/x-python",
   "name": "python",
   "nbconvert_exporter": "python",
   "pygments_lexer": "ipython3",
   "version": "3.11.1"
  }
 },
 "nbformat": 4,
 "nbformat_minor": 2
}
