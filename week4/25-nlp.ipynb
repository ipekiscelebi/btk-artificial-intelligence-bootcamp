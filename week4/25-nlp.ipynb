{
 "cells": [
  {
   "cell_type": "code",
   "execution_count": 1,
   "metadata": {},
   "outputs": [],
   "source": [
    "import numpy as np\n",
    "import pandas as pd"
   ]
  },
  {
   "cell_type": "code",
   "execution_count": 2,
   "metadata": {},
   "outputs": [],
   "source": [
    "data=pd.read_table(\"NLPlabeledData.tsv\")"
   ]
  },
  {
   "cell_type": "code",
   "execution_count": 3,
   "metadata": {},
   "outputs": [],
   "source": [
    "from nltk.corpus import stopwords\n",
    "import nltk"
   ]
  },
  {
   "cell_type": "code",
   "execution_count": 4,
   "metadata": {},
   "outputs": [
    {
     "name": "stderr",
     "output_type": "stream",
     "text": [
      "[nltk_data] Downloading package stopwords to\n",
      "[nltk_data]     C:\\Users\\ipek\\AppData\\Roaming\\nltk_data...\n",
      "[nltk_data]   Package stopwords is already up-to-date!\n"
     ]
    }
   ],
   "source": [
    "nltk.download(\"stopwords\")\n",
    "list=stopwords.words(\"english\")\n",
    "list1=stopwords.words(\"turkish\")"
   ]
  },
  {
   "cell_type": "code",
   "execution_count": 5,
   "metadata": {},
   "outputs": [],
   "source": [
    "ex_text=data.review[0]"
   ]
  },
  {
   "cell_type": "code",
   "execution_count": 6,
   "metadata": {},
   "outputs": [
    {
     "data": {
      "text/plain": [
       "2302"
      ]
     },
     "execution_count": 6,
     "metadata": {},
     "output_type": "execute_result"
    }
   ],
   "source": [
    "len(ex_text)"
   ]
  },
  {
   "cell_type": "code",
   "execution_count": 7,
   "metadata": {},
   "outputs": [],
   "source": [
    "from bs4 import BeautifulSoup"
   ]
  },
  {
   "cell_type": "code",
   "execution_count": 8,
   "metadata": {},
   "outputs": [],
   "source": [
    "ex_text1=BeautifulSoup(ex_text, features=\"lxml\").get_text() #to clean from html tags"
   ]
  },
  {
   "cell_type": "code",
   "execution_count": 11,
   "metadata": {},
   "outputs": [],
   "source": [
    "import re\n",
    "ex_text2=re.sub(\"[^a-zA-Z]\",\" \",ex_text1)"
   ]
  },
  {
   "cell_type": "code",
   "execution_count": 12,
   "metadata": {},
   "outputs": [],
   "source": [
    "ex_text3=ex_text2.lower()\n",
    "ex_text3=ex_text3.split()"
   ]
  },
  {
   "cell_type": "code",
   "execution_count": 13,
   "metadata": {},
   "outputs": [
    {
     "data": {
      "text/plain": [
       "437"
      ]
     },
     "execution_count": 13,
     "metadata": {},
     "output_type": "execute_result"
    }
   ],
   "source": [
    "len(ex_text3)"
   ]
  },
  {
   "cell_type": "code",
   "execution_count": 17,
   "metadata": {},
   "outputs": [],
   "source": [
    "swords=set(stopwords.words(\"english\"))\n",
    "ex_text4=[w for w in ex_text3 if w not in swords]"
   ]
  },
  {
   "cell_type": "code",
   "execution_count": 21,
   "metadata": {},
   "outputs": [],
   "source": [
    "def process(review):\n",
    "    review=BeautifulSoup(review, features=\"lxml\").get_text()\n",
    "    review=re.sub(\"[^a-zA-Z]\",\" \",review)\n",
    "    review=review.lower()\n",
    "    review=review.split()\n",
    "    review=[w for w in review if w not in swords]   #we remove the stop words\n",
    "    return(\" \".join(review))   #will add a space at the beginning and send back every value we send, the characters we split with the split will be listed again."
   ]
  },
  {
   "cell_type": "code",
   "execution_count": 23,
   "metadata": {},
   "outputs": [
    {
     "name": "stderr",
     "output_type": "stream",
     "text": [
      "C:\\Users\\ipek\\AppData\\Local\\Temp\\ipykernel_7344\\2022276758.py:2: MarkupResemblesLocatorWarning: The input looks more like a filename than markup. You may want to open this file and pass the filehandle into Beautiful Soup.\n",
      "  review=BeautifulSoup(review, features=\"lxml\").get_text()\n"
     ]
    },
    {
     "name": "stdout",
     "output_type": "stream",
     "text": [
      "process is completed 1000\n",
      "process is completed 2000\n",
      "process is completed 3000\n",
      "process is completed 4000\n",
      "process is completed 5000\n",
      "process is completed 6000\n",
      "process is completed 7000\n",
      "process is completed 8000\n",
      "process is completed 9000\n",
      "process is completed 10000\n",
      "process is completed 11000\n",
      "process is completed 12000\n",
      "process is completed 13000\n",
      "process is completed 14000\n",
      "process is completed 15000\n",
      "process is completed 16000\n",
      "process is completed 17000\n",
      "process is completed 18000\n",
      "process is completed 19000\n",
      "process is completed 20000\n",
      "process is completed 21000\n",
      "process is completed 22000\n",
      "process is completed 23000\n",
      "process is completed 24000\n",
      "process is completed 25000\n"
     ]
    }
   ],
   "source": [
    "train_X_all=[]\n",
    "for i in range(len(data[\"review\"])):\n",
    "    if(i+1)%1000==0:\n",
    "        print(\"process is completed\",i+1)\n",
    "    train_X_all.append(process(data[\"review\"][i]))  #review is a column name"
   ]
  },
  {
   "cell_type": "code",
   "execution_count": 25,
   "metadata": {},
   "outputs": [
    {
     "name": "stderr",
     "output_type": "stream",
     "text": [
      "  0%|          | 0/25000 [00:00<?, ?it/s]C:\\Users\\ipek\\AppData\\Local\\Temp\\ipykernel_7344\\2022276758.py:2: MarkupResemblesLocatorWarning: The input looks more like a filename than markup. You may want to open this file and pass the filehandle into Beautiful Soup.\n",
      "  review=BeautifulSoup(review, features=\"lxml\").get_text()\n",
      "100%|██████████| 25000/25000 [00:05<00:00, 4197.32it/s]\n"
     ]
    }
   ],
   "source": [
    "#you can use another library\n",
    "train_X_all1=[]\n",
    "from tqdm import tqdm\n",
    "for i in tqdm(range(len(data[\"review\"]))):\n",
    "    train_X_all1.append(process(data[\"review\"][i]))"
   ]
  },
  {
   "cell_type": "code",
   "execution_count": null,
   "metadata": {},
   "outputs": [],
   "source": [
    "train_X_all"
   ]
  },
  {
   "cell_type": "code",
   "execution_count": 33,
   "metadata": {},
   "outputs": [],
   "source": [
    "from sklearn.model_selection import train_test_split\n",
    "X=train_X_all\n",
    "y=np.array(data[\"sentiment\"])\n",
    "Xtrain,Xtest,ytrain,ytest=train_test_split(X,y,test_size=0.2,random_state=42)"
   ]
  },
  {
   "cell_type": "code",
   "execution_count": 34,
   "metadata": {},
   "outputs": [],
   "source": [
    "from sklearn.feature_extraction.text import CountVectorizer\n",
    "Vectorizer = CountVectorizer(max_features=5000)   #set it to only take the 5000 most common words, if the words occur in sentences, it takes the values 1 if not, it takes the values 0"
   ]
  },
  {
   "cell_type": "code",
   "execution_count": 35,
   "metadata": {},
   "outputs": [],
   "source": [
    "Xtrain=Vectorizer.fit_transform(Xtrain)\n",
    "Xtrain=Xtrain.toarray()"
   ]
  },
  {
   "cell_type": "code",
   "execution_count": 36,
   "metadata": {},
   "outputs": [],
   "source": [
    "#naive bayes algorithm\n",
    "from sklearn.naive_bayes import GaussianNB\n",
    "nb=GaussianNB()\n",
    "nb.fit(Xtrain,ytrain)\n",
    "Xtest=Vectorizer.transform(Xtest)"
   ]
  },
  {
   "cell_type": "code",
   "execution_count": 37,
   "metadata": {},
   "outputs": [],
   "source": [
    "Xtest=Xtest.toarray()"
   ]
  },
  {
   "cell_type": "code",
   "execution_count": 47,
   "metadata": {},
   "outputs": [
    {
     "name": "stdout",
     "output_type": "stream",
     "text": [
      "accuracy:  0.7427564216109123\n"
     ]
    }
   ],
   "source": [
    "from sklearn.metrics import roc_auc_score\n",
    "ytest_pred=nb.predict(Xtest)\n",
    "accuracy=roc_auc_score(ytest,ytest_pred)\n",
    "print(\"accuracy: \",accuracy)"
   ]
  },
  {
   "cell_type": "code",
   "execution_count": 52,
   "metadata": {},
   "outputs": [],
   "source": [
    "# #random forest algorithm\n",
    "# from sklearn.ensemble import RandomForestClassifier\n",
    "# rf=RandomForestClassifier(n_estimators=100, random_state=42) burası eksik random forest naive bayese göre daha iyi bir sonuç veriyor, tamamla!!!"
   ]
  },
  {
   "cell_type": "code",
   "execution_count": 55,
   "metadata": {},
   "outputs": [],
   "source": [
    "positive_sent = \"The innovative AI model demonstrated exceptional performance, surpassing expectations in its ability to analyze and interpret vast amounts of data with unprecedented speed and accuracy, proving to be a game-changer in the field of machine learning\"\n",
    "negative_sent = \"Despite the high hopes placed on the advanced software, it ultimately failed to deliver on its promises, struggling with the interpretation of nuanced and complex datasets, leading to significant inaccuracies and undermining its reliability in critical applications\""
   ]
  },
  {
   "cell_type": "code",
   "execution_count": 57,
   "metadata": {},
   "outputs": [
    {
     "name": "stdout",
     "output_type": "stream",
     "text": [
      "Positive Sentence Prediction: Negative\n",
      "Negative Sentence Prediction: Negative\n"
     ]
    }
   ],
   "source": [
    "# Preprocessing new sentences\n",
    "positive_processed = process(positive_sent)\n",
    "negative_processed = process(negative_sent)\n",
    "\n",
    "# Vectorizing the new sentences\n",
    "positive_vectorized = Vectorizer.transform([positive_processed]).toarray()\n",
    "negative_vectorized = Vectorizer.transform([negative_processed]).toarray()\n",
    "\n",
    "# Making predictions\n",
    "positive_prediction = nb.predict(positive_vectorized)\n",
    "negative_prediction = nb.predict(negative_vectorized)\n",
    "\n",
    "# Outputting the results\n",
    "print(\"Positive Sentence Prediction:\", \"Positive\" if positive_prediction[0] == 1 else \"Negative\")\n",
    "print(\"Negative Sentence Prediction:\", \"Positive\" if negative_prediction[0] == 1 else \"Negative\")\n"
   ]
  },
  {
   "cell_type": "code",
   "execution_count": 59,
   "metadata": {},
   "outputs": [
    {
     "name": "stdout",
     "output_type": "stream",
     "text": [
      "[0]\n",
      "olumsuz\n"
     ]
    }
   ],
   "source": [
    "olumlu=\"The natural language processing system exhibits impressive performance in text-based tasks, showcasing its advanced capabilities in understanding and processing human language\"\n",
    "olumsuz=\"Unfortunately, the natural language processing model struggles with intricate nuances, leading to a compromised performance in various language-based applications\"\n",
    "manuel_olumlu=process(olumlu)\n",
    "manuel_olumlu=Vectorizer.transform([manuel_olumlu])\n",
    "manuel_olumlu=manuel_olumlu.toarray()\n",
    "sonuc1=nb.predict(manuel_olumlu)\n",
    "print(sonuc1)\n",
    "if sonuc1==1:\n",
    "    print(\"positive\")\n",
    "else:\n",
    "    print(\"negative\")"
   ]
  }
 ],
 "metadata": {
  "kernelspec": {
   "display_name": "Python 3",
   "language": "python",
   "name": "python3"
  },
  "language_info": {
   "codemirror_mode": {
    "name": "ipython",
    "version": 3
   },
   "file_extension": ".py",
   "mimetype": "text/x-python",
   "name": "python",
   "nbconvert_exporter": "python",
   "pygments_lexer": "ipython3",
   "version": "3.11.1"
  }
 },
 "nbformat": 4,
 "nbformat_minor": 2
}
