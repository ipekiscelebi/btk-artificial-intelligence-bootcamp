{
 "cells": [
  {
   "cell_type": "code",
   "execution_count": 1,
   "id": "f0ceb6b5",
   "metadata": {},
   "outputs": [],
   "source": [
    "import numpy as np   #scientific relations\n",
    "#faster and smaller allocations than lists\n",
    "#if data types are different, numpy array convert whole elements to same type\n",
    "#pandas and numpy are complementary\n",
    "#.reshape(1,-1)  -> row vector\n",
    "#.reshape(-1,1)  -> colummn vector"
   ]
  },
  {
   "cell_type": "code",
   "execution_count": 17,
   "id": "28e0c599",
   "metadata": {},
   "outputs": [],
   "source": [
    "a = np.array([1, 2, 3, 4])\n",
    "a = np.array((1,2,3,4))    #both usage are true"
   ]
  },
  {
   "cell_type": "code",
   "execution_count": 3,
   "id": "1d8c336d",
   "metadata": {},
   "outputs": [
    {
     "data": {
      "text/plain": [
       "array([1, 2, 3, 4])"
      ]
     },
     "execution_count": 3,
     "metadata": {},
     "output_type": "execute_result"
    }
   ],
   "source": [
    "a"
   ]
  },
  {
   "cell_type": "code",
   "execution_count": 19,
   "id": "3fa16a2c",
   "metadata": {},
   "outputs": [],
   "source": [
    "a=([])    #an empty numpy array"
   ]
  },
  {
   "cell_type": "code",
   "execution_count": 21,
   "id": "342b654a",
   "metadata": {},
   "outputs": [],
   "source": [
    "a=np.array([3,4,5.2,7.2,9],dtype=\"int32\")   #int32, float64 indicates that elements\n",
    "#refers to the space these variables occupy in memory."
   ]
  },
  {
   "cell_type": "code",
   "execution_count": null,
   "id": "7ac16f88",
   "metadata": {},
   "outputs": [],
   "source": [
    "a.astype(np.float32)   #If we want to convert the data type of an existing array"
   ]
  },
  {
   "cell_type": "code",
   "execution_count": 4,
   "id": "cf678841",
   "metadata": {},
   "outputs": [],
   "source": [
    "list = [10, 20, 30, 40]"
   ]
  },
  {
   "cell_type": "code",
   "execution_count": 5,
   "id": "63690a7e",
   "metadata": {},
   "outputs": [
    {
     "data": {
      "text/plain": [
       "[10, 20, 30, 40]"
      ]
     },
     "execution_count": 5,
     "metadata": {},
     "output_type": "execute_result"
    }
   ],
   "source": [
    "list"
   ]
  },
  {
   "cell_type": "code",
   "execution_count": 6,
   "id": "dcfac526",
   "metadata": {},
   "outputs": [],
   "source": [
    "b = np.array(list)   #creating a numpy array in a different way"
   ]
  },
  {
   "cell_type": "code",
   "execution_count": 7,
   "id": "8ae8773a",
   "metadata": {},
   "outputs": [
    {
     "data": {
      "text/plain": [
       "array([10, 20, 30, 40])"
      ]
     },
     "execution_count": 7,
     "metadata": {},
     "output_type": "execute_result"
    }
   ],
   "source": [
    "b"
   ]
  },
  {
   "cell_type": "code",
   "execution_count": 8,
   "id": "b44120ae",
   "metadata": {},
   "outputs": [
    {
     "data": {
      "text/plain": [
       "numpy.ndarray"
      ]
     },
     "execution_count": 8,
     "metadata": {},
     "output_type": "execute_result"
    }
   ],
   "source": [
    "type(a)"
   ]
  },
  {
   "cell_type": "code",
   "execution_count": 9,
   "id": "77a85f0c",
   "metadata": {},
   "outputs": [
    {
     "data": {
      "text/plain": [
       "list"
      ]
     },
     "execution_count": 9,
     "metadata": {},
     "output_type": "execute_result"
    }
   ],
   "source": [
    "type(list)"
   ]
  },
  {
   "cell_type": "code",
   "execution_count": 13,
   "id": "a9ef580e",
   "metadata": {},
   "outputs": [
    {
     "name": "stdout",
     "output_type": "stream",
     "text": [
      "[5, 12, 21, 32]\n"
     ]
    }
   ],
   "source": [
    "#lists\n",
    "x=[1,2,3,4]\n",
    "y=[5,6,7,8]\n",
    "list=[]\n",
    "for i in range(len(x)):\n",
    "    list.append(x[i]*y[i])\n",
    "print(list)"
   ]
  },
  {
   "cell_type": "code",
   "execution_count": 15,
   "id": "5b104a07",
   "metadata": {},
   "outputs": [
    {
     "name": "stdout",
     "output_type": "stream",
     "text": [
      "[ 5 12 21 32]\n"
     ]
    }
   ],
   "source": [
    "#numpy arrays\n",
    "import numpy as np\n",
    "x=np.array([1,2,3,4])\n",
    "y=np.array([5,6,7,8])\n",
    "print(x*y)"
   ]
  },
  {
   "cell_type": "code",
   "execution_count": 10,
   "id": "cb46b6b5",
   "metadata": {},
   "outputs": [],
   "source": [
    "t1 = (7, 8, 9)    #a tuple"
   ]
  },
  {
   "cell_type": "code",
   "execution_count": 12,
   "id": "adf897bb",
   "metadata": {},
   "outputs": [],
   "source": [
    "t = np.array(t1)    #creating a numpy array in a different way"
   ]
  },
  {
   "cell_type": "code",
   "execution_count": 14,
   "id": "4a549d6a",
   "metadata": {},
   "outputs": [
    {
     "data": {
      "text/plain": [
       "numpy.ndarray"
      ]
     },
     "execution_count": 14,
     "metadata": {},
     "output_type": "execute_result"
    }
   ],
   "source": [
    "type(t)"
   ]
  },
  {
   "cell_type": "code",
   "execution_count": 17,
   "id": "1dc7cef9",
   "metadata": {},
   "outputs": [
    {
     "name": "stdout",
     "output_type": "stream",
     "text": [
      "<class 'numpy.int32'>\n",
      "<class 'numpy.int32'>\n",
      "<class 'numpy.int32'>\n"
     ]
    }
   ],
   "source": [
    "for i in t:\n",
    "    print(type(i))"
   ]
  },
  {
   "cell_type": "code",
   "execution_count": 2,
   "id": "58e350db",
   "metadata": {},
   "outputs": [],
   "source": [
    "s = np.array([1,  2, 3.5, 4.6, 7.8])"
   ]
  },
  {
   "cell_type": "code",
   "execution_count": 3,
   "id": "6026e02a",
   "metadata": {},
   "outputs": [
    {
     "data": {
      "text/plain": [
       "array([1. , 2. , 3.5, 4.6, 7.8])"
      ]
     },
     "execution_count": 3,
     "metadata": {},
     "output_type": "execute_result"
    }
   ],
   "source": [
    "s"
   ]
  },
  {
   "cell_type": "code",
   "execution_count": 26,
   "id": "f0d9a83d",
   "metadata": {},
   "outputs": [
    {
     "name": "stdout",
     "output_type": "stream",
     "text": [
      "<class 'numpy.float64'>\n",
      "<class 'numpy.float64'>\n",
      "<class 'numpy.float64'>\n",
      "<class 'numpy.float64'>\n",
      "<class 'numpy.float64'>\n"
     ]
    }
   ],
   "source": [
    "for i in s:\n",
    "    print(type(i))"
   ]
  },
  {
   "cell_type": "code",
   "execution_count": 27,
   "id": "2ca825a9",
   "metadata": {},
   "outputs": [
    {
     "data": {
      "text/plain": [
       "array([0., 0., 0., 0., 0., 0., 0., 0., 0., 0.])"
      ]
     },
     "execution_count": 27,
     "metadata": {},
     "output_type": "execute_result"
    }
   ],
   "source": [
    "np.zeros(10)    #creating a numpy array consist of zeros"
   ]
  },
  {
   "cell_type": "code",
   "execution_count": 29,
   "id": "116c9a88",
   "metadata": {},
   "outputs": [
    {
     "data": {
      "text/plain": [
       "array([5., 5., 5., 5., 5., 5., 5., 5., 5., 5.])"
      ]
     },
     "execution_count": 29,
     "metadata": {},
     "output_type": "execute_result"
    }
   ],
   "source": [
    "np.zeros(10)+5"
   ]
  },
  {
   "cell_type": "code",
   "execution_count": 30,
   "id": "3b31aa92",
   "metadata": {},
   "outputs": [
    {
     "data": {
      "text/plain": [
       "array([1., 1., 1., 1., 1.])"
      ]
     },
     "execution_count": 30,
     "metadata": {},
     "output_type": "execute_result"
    }
   ],
   "source": [
    "np.ones(5)"
   ]
  },
  {
   "cell_type": "code",
   "execution_count": 31,
   "id": "fcac4b5d",
   "metadata": {},
   "outputs": [
    {
     "data": {
      "text/plain": [
       "array([1, 1, 1, 1, 1, 1], dtype=int16)"
      ]
     },
     "execution_count": 31,
     "metadata": {},
     "output_type": "execute_result"
    }
   ],
   "source": [
    "np.ones(6, dtype=\"int16\")"
   ]
  },
  {
   "cell_type": "code",
   "execution_count": 32,
   "id": "817630b9",
   "metadata": {},
   "outputs": [
    {
     "data": {
      "text/plain": [
       "array([5, 5, 5, 5, 5, 5, 5, 5])"
      ]
     },
     "execution_count": 32,
     "metadata": {},
     "output_type": "execute_result"
    }
   ],
   "source": [
    "np.full(8,5)"
   ]
  },
  {
   "cell_type": "code",
   "execution_count": 36,
   "id": "cc882432",
   "metadata": {},
   "outputs": [
    {
     "data": {
      "text/plain": [
       "array([[1, 2, 3],\n",
       "       [4, 5, 6],\n",
       "       [7, 8, 9]])"
      ]
     },
     "execution_count": 36,
     "metadata": {},
     "output_type": "execute_result"
    }
   ],
   "source": [
    "np.array([[1, 2, 3],[4, 5, 6], [7, 8, 9]])"
   ]
  },
  {
   "cell_type": "code",
   "execution_count": 38,
   "id": "23b23764",
   "metadata": {},
   "outputs": [
    {
     "data": {
      "text/plain": [
       "array([[1., 1.],\n",
       "       [1., 1.],\n",
       "       [1., 1.]])"
      ]
     },
     "execution_count": 38,
     "metadata": {},
     "output_type": "execute_result"
    }
   ],
   "source": [
    "np.ones((3,2))"
   ]
  },
  {
   "cell_type": "code",
   "execution_count": 39,
   "id": "8b25a7ee",
   "metadata": {},
   "outputs": [
    {
     "data": {
      "text/plain": [
       "array([0, 1, 2, 3, 4, 5, 6, 7, 8, 9])"
      ]
     },
     "execution_count": 39,
     "metadata": {},
     "output_type": "execute_result"
    }
   ],
   "source": [
    "np.arange(0, 10)"
   ]
  },
  {
   "cell_type": "code",
   "execution_count": 40,
   "id": "13a3e7a3",
   "metadata": {},
   "outputs": [
    {
     "data": {
      "text/plain": [
       "array([ 0,  2,  4,  6,  8, 10, 12, 14, 16, 18])"
      ]
     },
     "execution_count": 40,
     "metadata": {},
     "output_type": "execute_result"
    }
   ],
   "source": [
    "np.arange(0 ,20, 2)"
   ]
  },
  {
   "cell_type": "code",
   "execution_count": 41,
   "id": "7deff354",
   "metadata": {},
   "outputs": [
    {
     "data": {
      "text/plain": [
       "array([0. , 0.5, 1. , 1.5, 2. , 2.5])"
      ]
     },
     "execution_count": 41,
     "metadata": {},
     "output_type": "execute_result"
    }
   ],
   "source": [
    "np.arange(0, 3, 0.5)"
   ]
  },
  {
   "cell_type": "code",
   "execution_count": 44,
   "id": "fe99ca1c",
   "metadata": {},
   "outputs": [
    {
     "data": {
      "text/plain": [
       "array([  0.,  25.,  50.,  75., 100.])"
      ]
     },
     "execution_count": 44,
     "metadata": {},
     "output_type": "execute_result"
    }
   ],
   "source": [
    "np.linspace(0, 100, 5)"
   ]
  },
  {
   "cell_type": "code",
   "execution_count": 46,
   "id": "70585c49",
   "metadata": {},
   "outputs": [
    {
     "data": {
      "text/plain": [
       "array([0.25368498, 0.25703975, 0.22059376, 0.24224167, 0.53832071])"
      ]
     },
     "execution_count": 46,
     "metadata": {},
     "output_type": "execute_result"
    }
   ],
   "source": [
    "np.random.rand(5)   #gives a random value between 0-1"
   ]
  },
  {
   "cell_type": "code",
   "execution_count": 26,
   "id": "f0fa05c5",
   "metadata": {},
   "outputs": [
    {
     "data": {
      "text/plain": [
       "array([8, 3, 1])"
      ]
     },
     "execution_count": 26,
     "metadata": {},
     "output_type": "execute_result"
    }
   ],
   "source": [
    "np.random.randint(0,10, 3)   #from 0 to 10 produce numbers three by tree"
   ]
  },
  {
   "cell_type": "code",
   "execution_count": 24,
   "id": "3fbb73d1",
   "metadata": {},
   "outputs": [
    {
     "data": {
      "text/plain": [
       "array([[4, 7, 9, 5],\n",
       "       [3, 0, 8, 9],\n",
       "       [1, 9, 6, 5]])"
      ]
     },
     "execution_count": 24,
     "metadata": {},
     "output_type": "execute_result"
    }
   ],
   "source": [
    "np.random.randint(0,10, (3,4))"
   ]
  },
  {
   "cell_type": "code",
   "execution_count": 28,
   "id": "c38eeb73",
   "metadata": {},
   "outputs": [],
   "source": [
    "m = np.random.randint(1, 10, size=10)"
   ]
  },
  {
   "cell_type": "code",
   "execution_count": 29,
   "id": "faaf72f3",
   "metadata": {},
   "outputs": [
    {
     "data": {
      "text/plain": [
       "array([7, 9, 8, 4, 6, 4, 3, 5, 3, 4])"
      ]
     },
     "execution_count": 29,
     "metadata": {},
     "output_type": "execute_result"
    }
   ],
   "source": [
    "m"
   ]
  },
  {
   "cell_type": "code",
   "execution_count": 60,
   "id": "2b5339d8",
   "metadata": {
    "scrolled": false
   },
   "outputs": [
    {
     "data": {
      "text/plain": [
       "1"
      ]
     },
     "execution_count": 60,
     "metadata": {},
     "output_type": "execute_result"
    }
   ],
   "source": [
    "m.ndim"
   ]
  },
  {
   "cell_type": "code",
   "execution_count": 30,
   "id": "0a638b2e",
   "metadata": {},
   "outputs": [],
   "source": [
    "n = np.random.randint(0,10, (3,4))"
   ]
  },
  {
   "cell_type": "code",
   "execution_count": 31,
   "id": "7dc9132e",
   "metadata": {},
   "outputs": [
    {
     "data": {
      "text/plain": [
       "array([[4, 2, 6, 2],\n",
       "       [6, 1, 3, 4],\n",
       "       [1, 0, 0, 0]])"
      ]
     },
     "execution_count": 31,
     "metadata": {},
     "output_type": "execute_result"
    }
   ],
   "source": [
    "n"
   ]
  },
  {
   "cell_type": "code",
   "execution_count": 32,
   "id": "9f454ec7",
   "metadata": {},
   "outputs": [
    {
     "data": {
      "text/plain": [
       "2"
      ]
     },
     "execution_count": 32,
     "metadata": {},
     "output_type": "execute_result"
    }
   ],
   "source": [
    "n.ndim    #dimensions"
   ]
  },
  {
   "cell_type": "code",
   "execution_count": 33,
   "id": "33d1841d",
   "metadata": {},
   "outputs": [
    {
     "data": {
      "text/plain": [
       "(3, 4)"
      ]
     },
     "execution_count": 33,
     "metadata": {},
     "output_type": "execute_result"
    }
   ],
   "source": [
    "n.shape   #shape"
   ]
  },
  {
   "cell_type": "code",
   "execution_count": 61,
   "id": "ba9931e0",
   "metadata": {},
   "outputs": [
    {
     "data": {
      "text/plain": [
       "12"
      ]
     },
     "execution_count": 61,
     "metadata": {},
     "output_type": "execute_result"
    }
   ],
   "source": [
    "n.size    #count of elements"
   ]
  },
  {
   "cell_type": "code",
   "execution_count": 62,
   "id": "25629b11",
   "metadata": {},
   "outputs": [
    {
     "data": {
      "text/plain": [
       "dtype('int32')"
      ]
     },
     "execution_count": 62,
     "metadata": {},
     "output_type": "execute_result"
    }
   ],
   "source": [
    "n.dtype"
   ]
  },
  {
   "cell_type": "code",
   "execution_count": 34,
   "id": "47df503b",
   "metadata": {},
   "outputs": [],
   "source": [
    "x = np.array([1,2,3])\n",
    "y = x.reshape(1,3)    #1 row 3 column"
   ]
  },
  {
   "cell_type": "code",
   "execution_count": 35,
   "id": "18875b7c",
   "metadata": {},
   "outputs": [
    {
     "data": {
      "text/plain": [
       "array([[1, 2, 3]])"
      ]
     },
     "execution_count": 35,
     "metadata": {},
     "output_type": "execute_result"
    }
   ],
   "source": [
    "y    #two dimensional matrix "
   ]
  },
  {
   "cell_type": "code",
   "execution_count": 72,
   "id": "0ac6e040",
   "metadata": {},
   "outputs": [],
   "source": [
    "k = np.array([1, 2, 3, 4, 5, 6, 7, 8, 9])"
   ]
  },
  {
   "cell_type": "code",
   "execution_count": 73,
   "id": "c32edbab",
   "metadata": {},
   "outputs": [
    {
     "data": {
      "text/plain": [
       "array([[1, 2, 3],\n",
       "       [4, 5, 6],\n",
       "       [7, 8, 9]])"
      ]
     },
     "execution_count": 73,
     "metadata": {},
     "output_type": "execute_result"
    }
   ],
   "source": [
    "k.reshape(3,3)"
   ]
  },
  {
   "cell_type": "code",
   "execution_count": 83,
   "id": "3cfa9fae",
   "metadata": {},
   "outputs": [],
   "source": [
    "a1 = np.array([1, 2, 3, 4, 5])\n",
    "a2 = np.array([6, 7, 8, 9, 10])"
   ]
  },
  {
   "cell_type": "code",
   "execution_count": 84,
   "id": "1d603770",
   "metadata": {},
   "outputs": [
    {
     "data": {
      "text/plain": [
       "array([ 1,  2,  3,  4,  5,  6,  7,  8,  9, 10])"
      ]
     },
     "execution_count": 84,
     "metadata": {},
     "output_type": "execute_result"
    }
   ],
   "source": [
    "np.concatenate([a1,a2])"
   ]
  },
  {
   "cell_type": "code",
   "execution_count": 36,
   "id": "7d0832e8",
   "metadata": {},
   "outputs": [],
   "source": [
    "b1 = np.array([[1, 2, 3], [4, 5, 6]]) \n",
    "b2 = np.array([10, 20, 30])"
   ]
  },
  {
   "cell_type": "code",
   "execution_count": 37,
   "id": "f5d382f2",
   "metadata": {},
   "outputs": [
    {
     "data": {
      "text/plain": [
       "array([[1, 2, 3],\n",
       "       [4, 5, 6]])"
      ]
     },
     "execution_count": 37,
     "metadata": {},
     "output_type": "execute_result"
    }
   ],
   "source": [
    "b1"
   ]
  },
  {
   "cell_type": "code",
   "execution_count": 38,
   "id": "3f4668f9",
   "metadata": {},
   "outputs": [
    {
     "data": {
      "text/plain": [
       "array([10, 20, 30])"
      ]
     },
     "execution_count": 38,
     "metadata": {},
     "output_type": "execute_result"
    }
   ],
   "source": [
    "b2"
   ]
  },
  {
   "cell_type": "code",
   "execution_count": 39,
   "id": "8a727113",
   "metadata": {},
   "outputs": [
    {
     "data": {
      "text/plain": [
       "array([[ 1,  2,  3],\n",
       "       [ 4,  5,  6],\n",
       "       [10, 20, 30]])"
      ]
     },
     "execution_count": 39,
     "metadata": {},
     "output_type": "execute_result"
    }
   ],
   "source": [
    "np.vstack([b1, b2])     #vertical concat"
   ]
  },
  {
   "cell_type": "code",
   "execution_count": 92,
   "id": "682be749",
   "metadata": {},
   "outputs": [],
   "source": [
    "c1 = np.array([[1, 2, 3], [4, 5, 6]])\n",
    "c2 = np.array([[7,8], [10, 20]])\n",
    "               "
   ]
  },
  {
   "cell_type": "code",
   "execution_count": 93,
   "id": "343af2ab",
   "metadata": {},
   "outputs": [
    {
     "data": {
      "text/plain": [
       "array([[ 1,  2,  3,  7,  8],\n",
       "       [ 4,  5,  6, 10, 20]])"
      ]
     },
     "execution_count": 93,
     "metadata": {},
     "output_type": "execute_result"
    }
   ],
   "source": [
    "np.hstack([c1, c2])     #horizontal concat"
   ]
  },
  {
   "cell_type": "code",
   "execution_count": 126,
   "id": "63b11999",
   "metadata": {},
   "outputs": [],
   "source": [
    "z = np.random.randint(1, 20, 12)"
   ]
  },
  {
   "cell_type": "code",
   "execution_count": 127,
   "id": "d83eb67f",
   "metadata": {},
   "outputs": [
    {
     "data": {
      "text/plain": [
       "array([ 7, 17, 19,  9, 13,  3,  6,  6,  2, 13,  3,  7])"
      ]
     },
     "execution_count": 127,
     "metadata": {},
     "output_type": "execute_result"
    }
   ],
   "source": [
    "z"
   ]
  },
  {
   "cell_type": "code",
   "execution_count": 98,
   "id": "1e152e62",
   "metadata": {},
   "outputs": [
    {
     "data": {
      "text/plain": [
       "[array([10,  7,  8,  9, 19]), array([19,  3,  4, 13, 13,  7,  5])]"
      ]
     },
     "execution_count": 98,
     "metadata": {},
     "output_type": "execute_result"
    }
   ],
   "source": [
    "np.split(z, [5])"
   ]
  },
  {
   "cell_type": "code",
   "execution_count": 99,
   "id": "0cab0918",
   "metadata": {},
   "outputs": [
    {
     "data": {
      "text/plain": [
       "[array([10,  7,  8,  9, 19]), array([19,  3]), array([ 4, 13, 13,  7,  5])]"
      ]
     },
     "execution_count": 99,
     "metadata": {},
     "output_type": "execute_result"
    }
   ],
   "source": [
    "np.split(z, [5,7])"
   ]
  },
  {
   "cell_type": "code",
   "execution_count": 100,
   "id": "592cda3d",
   "metadata": {},
   "outputs": [],
   "source": [
    "p = np.random.randint(12, size=(3,4))"
   ]
  },
  {
   "cell_type": "code",
   "execution_count": 101,
   "id": "3dd021ed",
   "metadata": {},
   "outputs": [
    {
     "data": {
      "text/plain": [
       "array([[ 8,  2, 11,  9],\n",
       "       [ 6,  6,  4,  9],\n",
       "       [ 0, 11,  4,  5]])"
      ]
     },
     "execution_count": 101,
     "metadata": {},
     "output_type": "execute_result"
    }
   ],
   "source": [
    "p"
   ]
  },
  {
   "cell_type": "code",
   "execution_count": 102,
   "id": "0737384d",
   "metadata": {},
   "outputs": [
    {
     "data": {
      "text/plain": [
       "6"
      ]
     },
     "execution_count": 102,
     "metadata": {},
     "output_type": "execute_result"
    }
   ],
   "source": [
    "p[1,1]   #rows first and then columns"
   ]
  },
  {
   "cell_type": "code",
   "execution_count": 104,
   "id": "a8751758",
   "metadata": {},
   "outputs": [],
   "source": [
    "p = np.random.randint(20, size=(5,4))"
   ]
  },
  {
   "cell_type": "code",
   "execution_count": 106,
   "id": "75ef9445",
   "metadata": {},
   "outputs": [
    {
     "data": {
      "text/plain": [
       "array([[ 3,  7,  8, 13],\n",
       "       [11,  2,  0, 17],\n",
       "       [ 6,  0, 19,  5],\n",
       "       [18,  4,  0,  4],\n",
       "       [ 8,  4, 15, 17]])"
      ]
     },
     "execution_count": 106,
     "metadata": {},
     "output_type": "execute_result"
    }
   ],
   "source": [
    "p"
   ]
  },
  {
   "cell_type": "code",
   "execution_count": 107,
   "id": "a9c916ad",
   "metadata": {},
   "outputs": [
    {
     "data": {
      "text/plain": [
       "array([ 0, 19,  5])"
      ]
     },
     "execution_count": 107,
     "metadata": {},
     "output_type": "execute_result"
    }
   ],
   "source": [
    "p[2,1:]    #row: 2    column: take all elements after 1"
   ]
  },
  {
   "cell_type": "code",
   "execution_count": 108,
   "id": "84f26106",
   "metadata": {},
   "outputs": [],
   "source": [
    "p = np.random.randint(50, size=(10,5))"
   ]
  },
  {
   "cell_type": "code",
   "execution_count": 109,
   "id": "e001e464",
   "metadata": {},
   "outputs": [
    {
     "data": {
      "text/plain": [
       "array([[38, 34, 44, 10, 36],\n",
       "       [21,  1,  5, 44, 25],\n",
       "       [22, 25,  2, 10,  8],\n",
       "       [36,  9, 29, 13, 30],\n",
       "       [13, 44,  1, 34,  5],\n",
       "       [ 7, 46, 34, 17, 10],\n",
       "       [40,  3,  9, 28, 30],\n",
       "       [ 2, 43, 31, 11,  3],\n",
       "       [12, 48,  1, 19,  5],\n",
       "       [14, 26, 24, 28,  3]])"
      ]
     },
     "execution_count": 109,
     "metadata": {},
     "output_type": "execute_result"
    }
   ],
   "source": [
    "p"
   ]
  },
  {
   "cell_type": "code",
   "execution_count": 111,
   "id": "7aebdc5a",
   "metadata": {},
   "outputs": [
    {
     "data": {
      "text/plain": [
       "array([[44,  1],\n",
       "       [46, 34]])"
      ]
     },
     "execution_count": 111,
     "metadata": {},
     "output_type": "execute_result"
    }
   ],
   "source": [
    "p[4:6, 1:3]    #first value include, last value exclude"
   ]
  },
  {
   "cell_type": "code",
   "execution_count": 115,
   "id": "01318dfe",
   "metadata": {},
   "outputs": [],
   "source": [
    "list1 = [1, 2, 3, 4, 5]"
   ]
  },
  {
   "cell_type": "code",
   "execution_count": 116,
   "id": "cabd9955",
   "metadata": {},
   "outputs": [],
   "source": [
    "list2 = list1"
   ]
  },
  {
   "cell_type": "code",
   "execution_count": 117,
   "id": "6712188e",
   "metadata": {},
   "outputs": [
    {
     "data": {
      "text/plain": [
       "[1, 2, 3, 4, 5]"
      ]
     },
     "execution_count": 117,
     "metadata": {},
     "output_type": "execute_result"
    }
   ],
   "source": [
    "list1"
   ]
  },
  {
   "cell_type": "code",
   "execution_count": 118,
   "id": "bf5d0a19",
   "metadata": {},
   "outputs": [
    {
     "data": {
      "text/plain": [
       "[1, 2, 3, 4, 5]"
      ]
     },
     "execution_count": 118,
     "metadata": {},
     "output_type": "execute_result"
    }
   ],
   "source": [
    "list2"
   ]
  },
  {
   "cell_type": "code",
   "execution_count": 119,
   "id": "0c58c45b",
   "metadata": {},
   "outputs": [],
   "source": [
    "list1[2]=10"
   ]
  },
  {
   "cell_type": "code",
   "execution_count": 120,
   "id": "ef0017f1",
   "metadata": {},
   "outputs": [
    {
     "data": {
      "text/plain": [
       "[1, 2, 10, 4, 5]"
      ]
     },
     "execution_count": 120,
     "metadata": {},
     "output_type": "execute_result"
    }
   ],
   "source": [
    "list1"
   ]
  },
  {
   "cell_type": "code",
   "execution_count": 121,
   "id": "99c23c2d",
   "metadata": {},
   "outputs": [
    {
     "data": {
      "text/plain": [
       "[1, 2, 10, 4, 5]"
      ]
     },
     "execution_count": 121,
     "metadata": {},
     "output_type": "execute_result"
    }
   ],
   "source": [
    "list2"
   ]
  },
  {
   "cell_type": "code",
   "execution_count": 43,
   "id": "345e061a",
   "metadata": {},
   "outputs": [],
   "source": [
    "import pandas as pd\n",
    "#1D -> Series\n",
    "#2D -> Data Frames"
   ]
  },
  {
   "cell_type": "code",
   "execution_count": 132,
   "id": "3e5c7746",
   "metadata": {},
   "outputs": [
    {
     "data": {
      "text/plain": [
       "0    1\n",
       "1    2\n",
       "2    3\n",
       "3    4\n",
       "4    5\n",
       "5    6\n",
       "dtype: int64"
      ]
     },
     "execution_count": 132,
     "metadata": {},
     "output_type": "execute_result"
    }
   ],
   "source": [
    "pd.Series([1, 2, 3, 4, 5, 6])"
   ]
  },
  {
   "cell_type": "code",
   "execution_count": 136,
   "id": "b0bd8476",
   "metadata": {},
   "outputs": [],
   "source": [
    "seri = pd.Series([\"Ankara\", \"İstanbul\", \"Bursa\", \"Antalya\"])"
   ]
  },
  {
   "cell_type": "code",
   "execution_count": 137,
   "id": "69a0c218",
   "metadata": {},
   "outputs": [
    {
     "data": {
      "text/plain": [
       "0      Ankara\n",
       "1    İstanbul\n",
       "2       Bursa\n",
       "3     Antalya\n",
       "dtype: object"
      ]
     },
     "execution_count": 137,
     "metadata": {},
     "output_type": "execute_result"
    }
   ],
   "source": [
    "seri"
   ]
  },
  {
   "cell_type": "code",
   "execution_count": 138,
   "id": "f93a7b0a",
   "metadata": {},
   "outputs": [],
   "source": [
    "list = [4, 5, 6, 7, 8, 9]\n",
    "seri = pd.Series(list)     #create pandas series in a different way"
   ]
  },
  {
   "cell_type": "code",
   "execution_count": 139,
   "id": "bc30d9c7",
   "metadata": {},
   "outputs": [
    {
     "data": {
      "text/plain": [
       "0    4\n",
       "1    5\n",
       "2    6\n",
       "3    7\n",
       "4    8\n",
       "5    9\n",
       "dtype: int64"
      ]
     },
     "execution_count": 139,
     "metadata": {},
     "output_type": "execute_result"
    }
   ],
   "source": [
    "seri"
   ]
  },
  {
   "cell_type": "code",
   "execution_count": 140,
   "id": "7b82559e",
   "metadata": {},
   "outputs": [
    {
     "data": {
      "text/plain": [
       "pandas.core.series.Series"
      ]
     },
     "execution_count": 140,
     "metadata": {},
     "output_type": "execute_result"
    }
   ],
   "source": [
    "type(seri)"
   ]
  },
  {
   "cell_type": "code",
   "execution_count": 141,
   "id": "f7086971",
   "metadata": {},
   "outputs": [
    {
     "data": {
      "text/plain": [
       "dtype('int64')"
      ]
     },
     "execution_count": 141,
     "metadata": {},
     "output_type": "execute_result"
    }
   ],
   "source": [
    "seri.dtype"
   ]
  },
  {
   "cell_type": "code",
   "execution_count": 142,
   "id": "3a76bbc4",
   "metadata": {},
   "outputs": [
    {
     "data": {
      "text/plain": [
       "array([4, 5, 6, 7, 8, 9], dtype=int64)"
      ]
     },
     "execution_count": 142,
     "metadata": {},
     "output_type": "execute_result"
    }
   ],
   "source": [
    "seri.values"
   ]
  },
  {
   "cell_type": "code",
   "execution_count": 143,
   "id": "7ddc605d",
   "metadata": {},
   "outputs": [
    {
     "data": {
      "text/plain": [
       "6"
      ]
     },
     "execution_count": 143,
     "metadata": {},
     "output_type": "execute_result"
    }
   ],
   "source": [
    "seri.size     #element count"
   ]
  },
  {
   "cell_type": "code",
   "execution_count": 145,
   "id": "786d7cbd",
   "metadata": {},
   "outputs": [
    {
     "data": {
      "text/plain": [
       "0    4\n",
       "1    5\n",
       "2    6\n",
       "3    7\n",
       "4    8\n",
       "dtype: int64"
      ]
     },
     "execution_count": 145,
     "metadata": {},
     "output_type": "execute_result"
    }
   ],
   "source": [
    "seri.head()"
   ]
  },
  {
   "cell_type": "code",
   "execution_count": 146,
   "id": "d9fff22f",
   "metadata": {},
   "outputs": [
    {
     "data": {
      "text/plain": [
       "0    4\n",
       "1    5\n",
       "2    6\n",
       "dtype: int64"
      ]
     },
     "execution_count": 146,
     "metadata": {},
     "output_type": "execute_result"
    }
   ],
   "source": [
    "seri.head(3)"
   ]
  },
  {
   "cell_type": "code",
   "execution_count": 147,
   "id": "ff85b4b3",
   "metadata": {},
   "outputs": [
    {
     "data": {
      "text/plain": [
       "1    5\n",
       "2    6\n",
       "3    7\n",
       "4    8\n",
       "5    9\n",
       "dtype: int64"
      ]
     },
     "execution_count": 147,
     "metadata": {},
     "output_type": "execute_result"
    }
   ],
   "source": [
    "seri.tail()"
   ]
  },
  {
   "cell_type": "code",
   "execution_count": 148,
   "id": "831b02f0",
   "metadata": {},
   "outputs": [
    {
     "data": {
      "text/plain": [
       "2    6\n",
       "3    7\n",
       "4    8\n",
       "5    9\n",
       "dtype: int64"
      ]
     },
     "execution_count": 148,
     "metadata": {},
     "output_type": "execute_result"
    }
   ],
   "source": [
    "seri.tail(4)"
   ]
  },
  {
   "cell_type": "code",
   "execution_count": 150,
   "id": "f6947cfe",
   "metadata": {},
   "outputs": [
    {
     "data": {
      "text/plain": [
       "7"
      ]
     },
     "execution_count": 150,
     "metadata": {},
     "output_type": "execute_result"
    }
   ],
   "source": [
    "seri[3]"
   ]
  },
  {
   "cell_type": "code",
   "execution_count": 44,
   "id": "61121916",
   "metadata": {},
   "outputs": [],
   "source": [
    "a=np.arange(1,6)\n",
    "seri=pd.Series(a)    #create a seri from a numpy array"
   ]
  },
  {
   "cell_type": "code",
   "execution_count": 45,
   "id": "d94f0991",
   "metadata": {},
   "outputs": [
    {
     "data": {
      "text/plain": [
       "array([1, 2, 3, 4, 5])"
      ]
     },
     "execution_count": 45,
     "metadata": {},
     "output_type": "execute_result"
    }
   ],
   "source": [
    "a"
   ]
  },
  {
   "cell_type": "code",
   "execution_count": 46,
   "id": "9fa494fa",
   "metadata": {},
   "outputs": [],
   "source": [
    "seri2 = pd.Series((1, 2, 3, 4, 5), index=(\"a\", \"b\", \"c\", \"d\", \"e\"))   #change a index value"
   ]
  },
  {
   "cell_type": "code",
   "execution_count": 47,
   "id": "bd619e61",
   "metadata": {},
   "outputs": [
    {
     "data": {
      "text/plain": [
       "a    1\n",
       "b    2\n",
       "c    3\n",
       "d    4\n",
       "e    5\n",
       "dtype: int64"
      ]
     },
     "execution_count": 47,
     "metadata": {},
     "output_type": "execute_result"
    }
   ],
   "source": [
    "seri2"
   ]
  },
  {
   "cell_type": "code",
   "execution_count": 49,
   "id": "122d85ef",
   "metadata": {},
   "outputs": [
    {
     "data": {
      "text/plain": [
       "3"
      ]
     },
     "execution_count": 49,
     "metadata": {},
     "output_type": "execute_result"
    }
   ],
   "source": [
    "seri2[\"c\"]"
   ]
  },
  {
   "cell_type": "code",
   "execution_count": 161,
   "id": "672a4092",
   "metadata": {},
   "outputs": [],
   "source": [
    "dict = {\"a\":1, \"b\":2, \"c\":3, \"d\":4}"
   ]
  },
  {
   "cell_type": "code",
   "execution_count": 162,
   "id": "1e5640f8",
   "metadata": {},
   "outputs": [
    {
     "data": {
      "text/plain": [
       "{'a': 1, 'b': 2, 'c': 3, 'd': 4}"
      ]
     },
     "execution_count": 162,
     "metadata": {},
     "output_type": "execute_result"
    }
   ],
   "source": [
    "dict"
   ]
  },
  {
   "cell_type": "code",
   "execution_count": 163,
   "id": "0d3af03a",
   "metadata": {},
   "outputs": [],
   "source": [
    "seri = pd.Series(dict)   #creating a seri from dictionaries"
   ]
  },
  {
   "cell_type": "code",
   "execution_count": 164,
   "id": "b719c616",
   "metadata": {},
   "outputs": [
    {
     "data": {
      "text/plain": [
       "a    1\n",
       "b    2\n",
       "c    3\n",
       "d    4\n",
       "dtype: int64"
      ]
     },
     "execution_count": 164,
     "metadata": {},
     "output_type": "execute_result"
    }
   ],
   "source": [
    "seri"
   ]
  },
  {
   "cell_type": "code",
   "execution_count": 165,
   "id": "ed839852",
   "metadata": {},
   "outputs": [
    {
     "data": {
      "text/plain": [
       "array([1, 2, 3, 4], dtype=int64)"
      ]
     },
     "execution_count": 165,
     "metadata": {},
     "output_type": "execute_result"
    }
   ],
   "source": [
    "seri.values"
   ]
  },
  {
   "cell_type": "code",
   "execution_count": 166,
   "id": "e147a473",
   "metadata": {},
   "outputs": [
    {
     "data": {
      "text/plain": [
       "<bound method Series.items of a    1\n",
       "b    2\n",
       "c    3\n",
       "d    4\n",
       "dtype: int64>"
      ]
     },
     "execution_count": 166,
     "metadata": {},
     "output_type": "execute_result"
    }
   ],
   "source": [
    "seri.items  "
   ]
  },
  {
   "cell_type": "code",
   "execution_count": 167,
   "id": "acd942c4",
   "metadata": {},
   "outputs": [
    {
     "data": {
      "text/plain": [
       "Index(['a', 'b', 'c', 'd'], dtype='object')"
      ]
     },
     "execution_count": 167,
     "metadata": {},
     "output_type": "execute_result"
    }
   ],
   "source": [
    "seri.index"
   ]
  },
  {
   "cell_type": "code",
   "execution_count": 168,
   "id": "8d3cbb41",
   "metadata": {},
   "outputs": [],
   "source": [
    "seri2 = pd.Series((1, 2, 3, 4, 5), index=(\"a\", \"b\", \"c\", \"d\", \"e\"))"
   ]
  },
  {
   "cell_type": "code",
   "execution_count": 169,
   "id": "bed0a949",
   "metadata": {},
   "outputs": [
    {
     "data": {
      "text/plain": [
       "b    2\n",
       "c    3\n",
       "d    4\n",
       "dtype: int64"
      ]
     },
     "execution_count": 169,
     "metadata": {},
     "output_type": "execute_result"
    }
   ],
   "source": [
    "seri[1:4]"
   ]
  },
  {
   "cell_type": "code",
   "execution_count": 170,
   "id": "654d1709",
   "metadata": {},
   "outputs": [],
   "source": [
    "seri3 = pd.Series((1, 2, 3, 4), index=(\"a\", \"b\", \"c\", \"d\"))"
   ]
  },
  {
   "cell_type": "code",
   "execution_count": 171,
   "id": "b9b648d2",
   "metadata": {},
   "outputs": [],
   "source": [
    "seri4 = seri2 = pd.Series((10, 20, 30, 40), index=(\"f\", \"g\", \"h\", \"j\"))"
   ]
  },
  {
   "cell_type": "code",
   "execution_count": 172,
   "id": "b865d54d",
   "metadata": {},
   "outputs": [
    {
     "data": {
      "text/plain": [
       "a     1\n",
       "b     2\n",
       "c     3\n",
       "d     4\n",
       "f    10\n",
       "g    20\n",
       "h    30\n",
       "j    40\n",
       "dtype: int64"
      ]
     },
     "execution_count": 172,
     "metadata": {},
     "output_type": "execute_result"
    }
   ],
   "source": [
    "pd.concat([seri3, seri4])"
   ]
  },
  {
   "cell_type": "code",
   "execution_count": 4,
   "id": "24b7d5e5",
   "metadata": {},
   "outputs": [],
   "source": [
    "import pandas as pd"
   ]
  },
  {
   "cell_type": "code",
   "execution_count": 3,
   "id": "8d8ae27b",
   "metadata": {},
   "outputs": [],
   "source": [
    "seri4 = pd.Series((1, 2, 3, 4), index=(\"a\", \"b\", \"c\", \"d\"))"
   ]
  },
  {
   "cell_type": "code",
   "execution_count": 4,
   "id": "91bea481",
   "metadata": {},
   "outputs": [
    {
     "data": {
      "text/plain": [
       "a    1\n",
       "b    2\n",
       "c    3\n",
       "d    4\n",
       "dtype: int64"
      ]
     },
     "execution_count": 4,
     "metadata": {},
     "output_type": "execute_result"
    }
   ],
   "source": [
    "seri4"
   ]
  },
  {
   "cell_type": "code",
   "execution_count": 5,
   "id": "da654e79",
   "metadata": {},
   "outputs": [
    {
     "data": {
      "text/plain": [
       "Series([], dtype: int64)"
      ]
     },
     "execution_count": 5,
     "metadata": {},
     "output_type": "execute_result"
    }
   ],
   "source": [
    "#If we change the index values in the series with different numerical expressions, a null value is returned when we want to perform the slicing operation.\n",
    "a = pd.Series([1, 2, 3, 4, 5, 6])\n",
    "a.index=(10,20,30,40,50,60)\n",
    "a[10:50]"
   ]
  },
  {
   "cell_type": "code",
   "execution_count": 6,
   "id": "fc586fe4",
   "metadata": {},
   "outputs": [
    {
     "data": {
      "text/plain": [
       "10    1\n",
       "20    2\n",
       "30    3\n",
       "dtype: int64"
      ]
     },
     "execution_count": 6,
     "metadata": {},
     "output_type": "execute_result"
    }
   ],
   "source": [
    "a.loc[10:30]"
   ]
  },
  {
   "cell_type": "code",
   "execution_count": null,
   "id": "fc0af9ea",
   "metadata": {},
   "outputs": [],
   "source": [
    "# The iloc method does the exact opposite of the loc method. \n",
    "# If we want to reach the elements of the series without taking into account the index values we give,"
   ]
  },
  {
   "cell_type": "code",
   "execution_count": 178,
   "id": "2c1ac842",
   "metadata": {},
   "outputs": [
    {
     "data": {
      "text/plain": [
       "b    2\n",
       "c    3\n",
       "d    4\n",
       "dtype: int64"
      ]
     },
     "execution_count": 178,
     "metadata": {},
     "output_type": "execute_result"
    }
   ],
   "source": [
    "seri4.iloc[1:4]         #index location"
   ]
  },
  {
   "cell_type": "code",
   "execution_count": 183,
   "id": "a4411d0c",
   "metadata": {},
   "outputs": [
    {
     "data": {
      "text/plain": [
       "a    False\n",
       "b    False\n",
       "c    False\n",
       "d     True\n",
       "dtype: bool"
      ]
     },
     "execution_count": 183,
     "metadata": {},
     "output_type": "execute_result"
    }
   ],
   "source": [
    "(seri4>3) & (seri4<5)"
   ]
  },
  {
   "cell_type": "code",
   "execution_count": 184,
   "id": "d99855fd",
   "metadata": {},
   "outputs": [
    {
     "data": {
      "text/plain": [
       "a    1\n",
       "b    2\n",
       "c    3\n",
       "d    4\n",
       "dtype: int64"
      ]
     },
     "execution_count": 184,
     "metadata": {},
     "output_type": "execute_result"
    }
   ],
   "source": [
    "seri4.loc[\"a\":\"d\"] "
   ]
  },
  {
   "cell_type": "code",
   "execution_count": null,
   "id": "f29a0473",
   "metadata": {},
   "outputs": [],
   "source": [
    "data = pd.read_csv(\"titanic_train.csv\")   "
   ]
  },
  {
   "cell_type": "code",
   "execution_count": null,
   "id": "4416881f",
   "metadata": {},
   "outputs": [],
   "source": [
    "len(data)"
   ]
  },
  {
   "cell_type": "code",
   "execution_count": 186,
   "id": "0645a801",
   "metadata": {},
   "outputs": [],
   "source": [
    "x = np.arange(1,16).reshape(5,3)"
   ]
  },
  {
   "cell_type": "code",
   "execution_count": 187,
   "id": "4fe69e14",
   "metadata": {},
   "outputs": [
    {
     "data": {
      "text/plain": [
       "array([[ 1,  2,  3],\n",
       "       [ 4,  5,  6],\n",
       "       [ 7,  8,  9],\n",
       "       [10, 11, 12],\n",
       "       [13, 14, 15]])"
      ]
     },
     "execution_count": 187,
     "metadata": {},
     "output_type": "execute_result"
    }
   ],
   "source": [
    "x"
   ]
  },
  {
   "cell_type": "code",
   "execution_count": 188,
   "id": "e490e3e0",
   "metadata": {},
   "outputs": [
    {
     "data": {
      "text/html": [
       "<div>\n",
       "<style scoped>\n",
       "    .dataframe tbody tr th:only-of-type {\n",
       "        vertical-align: middle;\n",
       "    }\n",
       "\n",
       "    .dataframe tbody tr th {\n",
       "        vertical-align: top;\n",
       "    }\n",
       "\n",
       "    .dataframe thead th {\n",
       "        text-align: right;\n",
       "    }\n",
       "</style>\n",
       "<table border=\"1\" class=\"dataframe\">\n",
       "  <thead>\n",
       "    <tr style=\"text-align: right;\">\n",
       "      <th></th>\n",
       "      <th>s1</th>\n",
       "      <th>s2</th>\n",
       "      <th>s3</th>\n",
       "    </tr>\n",
       "  </thead>\n",
       "  <tbody>\n",
       "    <tr>\n",
       "      <th>0</th>\n",
       "      <td>1</td>\n",
       "      <td>2</td>\n",
       "      <td>3</td>\n",
       "    </tr>\n",
       "    <tr>\n",
       "      <th>1</th>\n",
       "      <td>4</td>\n",
       "      <td>5</td>\n",
       "      <td>6</td>\n",
       "    </tr>\n",
       "    <tr>\n",
       "      <th>2</th>\n",
       "      <td>7</td>\n",
       "      <td>8</td>\n",
       "      <td>9</td>\n",
       "    </tr>\n",
       "    <tr>\n",
       "      <th>3</th>\n",
       "      <td>10</td>\n",
       "      <td>11</td>\n",
       "      <td>12</td>\n",
       "    </tr>\n",
       "    <tr>\n",
       "      <th>4</th>\n",
       "      <td>13</td>\n",
       "      <td>14</td>\n",
       "      <td>15</td>\n",
       "    </tr>\n",
       "  </tbody>\n",
       "</table>\n",
       "</div>"
      ],
      "text/plain": [
       "   s1  s2  s3\n",
       "0   1   2   3\n",
       "1   4   5   6\n",
       "2   7   8   9\n",
       "3  10  11  12\n",
       "4  13  14  15"
      ]
     },
     "execution_count": 188,
     "metadata": {},
     "output_type": "execute_result"
    }
   ],
   "source": [
    "pd.DataFrame(x, columns=[\"s1\", \"s2\", \"s3\"])"
   ]
  },
  {
   "cell_type": "code",
   "execution_count": 189,
   "id": "4e59da80",
   "metadata": {},
   "outputs": [],
   "source": [
    "dict = {\"column\": {\"s1\":1, \"s2\":2, \"s3\":3, \"s4\":4}}"
   ]
  },
  {
   "cell_type": "code",
   "execution_count": 190,
   "id": "f03d6751",
   "metadata": {},
   "outputs": [
    {
     "data": {
      "text/html": [
       "<div>\n",
       "<style scoped>\n",
       "    .dataframe tbody tr th:only-of-type {\n",
       "        vertical-align: middle;\n",
       "    }\n",
       "\n",
       "    .dataframe tbody tr th {\n",
       "        vertical-align: top;\n",
       "    }\n",
       "\n",
       "    .dataframe thead th {\n",
       "        text-align: right;\n",
       "    }\n",
       "</style>\n",
       "<table border=\"1\" class=\"dataframe\">\n",
       "  <thead>\n",
       "    <tr style=\"text-align: right;\">\n",
       "      <th></th>\n",
       "      <th>column</th>\n",
       "    </tr>\n",
       "  </thead>\n",
       "  <tbody>\n",
       "    <tr>\n",
       "      <th>s1</th>\n",
       "      <td>1</td>\n",
       "    </tr>\n",
       "    <tr>\n",
       "      <th>s2</th>\n",
       "      <td>2</td>\n",
       "    </tr>\n",
       "    <tr>\n",
       "      <th>s3</th>\n",
       "      <td>3</td>\n",
       "    </tr>\n",
       "    <tr>\n",
       "      <th>s4</th>\n",
       "      <td>4</td>\n",
       "    </tr>\n",
       "  </tbody>\n",
       "</table>\n",
       "</div>"
      ],
      "text/plain": [
       "    column\n",
       "s1       1\n",
       "s2       2\n",
       "s3       3\n",
       "s4       4"
      ]
     },
     "execution_count": 190,
     "metadata": {},
     "output_type": "execute_result"
    }
   ],
   "source": [
    "pd.DataFrame(dict)"
   ]
  },
  {
   "cell_type": "code",
   "execution_count": 8,
   "id": "b2127270",
   "metadata": {},
   "outputs": [],
   "source": [
    "dict = {\"column1\": {\"s1\":1, \"s2\":2, \"s3\":3, \"s4\":4},\n",
    "       \"column2\": {\"s1\":5, \"s2\":6, \"s3\":7, \"s4\":8},\n",
    "       \"column3\": {\"s1\":9, \"s2\":10, \"s3\":11, \"s4\":12}}"
   ]
  },
  {
   "cell_type": "code",
   "execution_count": 9,
   "id": "0140d86c",
   "metadata": {},
   "outputs": [],
   "source": [
    "data1 = pd.DataFrame(dict)"
   ]
  },
  {
   "cell_type": "code",
   "execution_count": 10,
   "id": "667911f9",
   "metadata": {},
   "outputs": [
    {
     "data": {
      "text/html": [
       "<div>\n",
       "<style scoped>\n",
       "    .dataframe tbody tr th:only-of-type {\n",
       "        vertical-align: middle;\n",
       "    }\n",
       "\n",
       "    .dataframe tbody tr th {\n",
       "        vertical-align: top;\n",
       "    }\n",
       "\n",
       "    .dataframe thead th {\n",
       "        text-align: right;\n",
       "    }\n",
       "</style>\n",
       "<table border=\"1\" class=\"dataframe\">\n",
       "  <thead>\n",
       "    <tr style=\"text-align: right;\">\n",
       "      <th></th>\n",
       "      <th>column1</th>\n",
       "      <th>column2</th>\n",
       "      <th>column3</th>\n",
       "    </tr>\n",
       "  </thead>\n",
       "  <tbody>\n",
       "    <tr>\n",
       "      <th>s1</th>\n",
       "      <td>1</td>\n",
       "      <td>5</td>\n",
       "      <td>9</td>\n",
       "    </tr>\n",
       "    <tr>\n",
       "      <th>s2</th>\n",
       "      <td>2</td>\n",
       "      <td>6</td>\n",
       "      <td>10</td>\n",
       "    </tr>\n",
       "    <tr>\n",
       "      <th>s3</th>\n",
       "      <td>3</td>\n",
       "      <td>7</td>\n",
       "      <td>11</td>\n",
       "    </tr>\n",
       "    <tr>\n",
       "      <th>s4</th>\n",
       "      <td>4</td>\n",
       "      <td>8</td>\n",
       "      <td>12</td>\n",
       "    </tr>\n",
       "  </tbody>\n",
       "</table>\n",
       "</div>"
      ],
      "text/plain": [
       "    column1  column2  column3\n",
       "s1        1        5        9\n",
       "s2        2        6       10\n",
       "s3        3        7       11\n",
       "s4        4        8       12"
      ]
     },
     "execution_count": 10,
     "metadata": {},
     "output_type": "execute_result"
    }
   ],
   "source": [
    "data1"
   ]
  },
  {
   "cell_type": "code",
   "execution_count": 11,
   "id": "dc953a8e",
   "metadata": {},
   "outputs": [
    {
     "data": {
      "text/plain": [
       "s1     9\n",
       "s2    10\n",
       "Name: column3, dtype: int64"
      ]
     },
     "execution_count": 11,
     "metadata": {},
     "output_type": "execute_result"
    }
   ],
   "source": [
    "data1.iloc[0:2, 2]"
   ]
  },
  {
   "cell_type": "code",
   "execution_count": 12,
   "id": "55e44d81",
   "metadata": {},
   "outputs": [
    {
     "data": {
      "text/html": [
       "<div>\n",
       "<style scoped>\n",
       "    .dataframe tbody tr th:only-of-type {\n",
       "        vertical-align: middle;\n",
       "    }\n",
       "\n",
       "    .dataframe tbody tr th {\n",
       "        vertical-align: top;\n",
       "    }\n",
       "\n",
       "    .dataframe thead th {\n",
       "        text-align: right;\n",
       "    }\n",
       "</style>\n",
       "<table border=\"1\" class=\"dataframe\">\n",
       "  <thead>\n",
       "    <tr style=\"text-align: right;\">\n",
       "      <th></th>\n",
       "      <th>column1</th>\n",
       "      <th>column2</th>\n",
       "      <th>column3</th>\n",
       "    </tr>\n",
       "  </thead>\n",
       "  <tbody>\n",
       "    <tr>\n",
       "      <th>s1</th>\n",
       "      <td>1</td>\n",
       "      <td>5</td>\n",
       "      <td>9</td>\n",
       "    </tr>\n",
       "    <tr>\n",
       "      <th>s2</th>\n",
       "      <td>2</td>\n",
       "      <td>6</td>\n",
       "      <td>10</td>\n",
       "    </tr>\n",
       "    <tr>\n",
       "      <th>s3</th>\n",
       "      <td>3</td>\n",
       "      <td>7</td>\n",
       "      <td>11</td>\n",
       "    </tr>\n",
       "    <tr>\n",
       "      <th>s4</th>\n",
       "      <td>4</td>\n",
       "      <td>8</td>\n",
       "      <td>12</td>\n",
       "    </tr>\n",
       "  </tbody>\n",
       "</table>\n",
       "</div>"
      ],
      "text/plain": [
       "    column1  column2  column3\n",
       "s1        1        5        9\n",
       "s2        2        6       10\n",
       "s3        3        7       11\n",
       "s4        4        8       12"
      ]
     },
     "execution_count": 12,
     "metadata": {},
     "output_type": "execute_result"
    }
   ],
   "source": [
    "data1"
   ]
  },
  {
   "cell_type": "code",
   "execution_count": 15,
   "id": "48c4516e",
   "metadata": {},
   "outputs": [],
   "source": [
    "data1.drop(\"column1\", axis=1, inplace=True)     #inplace=True -> save to the dataframe\n",
    "#axis=0 -> row\n",
    "#axis=1 -> column"
   ]
  },
  {
   "cell_type": "code",
   "execution_count": 16,
   "id": "0e59ccc4",
   "metadata": {},
   "outputs": [
    {
     "data": {
      "text/html": [
       "<div>\n",
       "<style scoped>\n",
       "    .dataframe tbody tr th:only-of-type {\n",
       "        vertical-align: middle;\n",
       "    }\n",
       "\n",
       "    .dataframe tbody tr th {\n",
       "        vertical-align: top;\n",
       "    }\n",
       "\n",
       "    .dataframe thead th {\n",
       "        text-align: right;\n",
       "    }\n",
       "</style>\n",
       "<table border=\"1\" class=\"dataframe\">\n",
       "  <thead>\n",
       "    <tr style=\"text-align: right;\">\n",
       "      <th></th>\n",
       "      <th>column2</th>\n",
       "      <th>column3</th>\n",
       "    </tr>\n",
       "  </thead>\n",
       "  <tbody>\n",
       "    <tr>\n",
       "      <th>s1</th>\n",
       "      <td>5</td>\n",
       "      <td>9</td>\n",
       "    </tr>\n",
       "    <tr>\n",
       "      <th>s2</th>\n",
       "      <td>6</td>\n",
       "      <td>10</td>\n",
       "    </tr>\n",
       "    <tr>\n",
       "      <th>s3</th>\n",
       "      <td>7</td>\n",
       "      <td>11</td>\n",
       "    </tr>\n",
       "    <tr>\n",
       "      <th>s4</th>\n",
       "      <td>8</td>\n",
       "      <td>12</td>\n",
       "    </tr>\n",
       "  </tbody>\n",
       "</table>\n",
       "</div>"
      ],
      "text/plain": [
       "    column2  column3\n",
       "s1        5        9\n",
       "s2        6       10\n",
       "s3        7       11\n",
       "s4        8       12"
      ]
     },
     "execution_count": 16,
     "metadata": {},
     "output_type": "execute_result"
    }
   ],
   "source": [
    "data1"
   ]
  },
  {
   "cell_type": "code",
   "execution_count": 60,
   "id": "b6881bce",
   "metadata": {},
   "outputs": [],
   "source": [
    "data1[\"column4\"]= (33, 56, 22, 54)"
   ]
  },
  {
   "cell_type": "code",
   "execution_count": 61,
   "id": "15048800",
   "metadata": {},
   "outputs": [
    {
     "data": {
      "text/html": [
       "<div>\n",
       "<style scoped>\n",
       "    .dataframe tbody tr th:only-of-type {\n",
       "        vertical-align: middle;\n",
       "    }\n",
       "\n",
       "    .dataframe tbody tr th {\n",
       "        vertical-align: top;\n",
       "    }\n",
       "\n",
       "    .dataframe thead th {\n",
       "        text-align: right;\n",
       "    }\n",
       "</style>\n",
       "<table border=\"1\" class=\"dataframe\">\n",
       "  <thead>\n",
       "    <tr style=\"text-align: right;\">\n",
       "      <th></th>\n",
       "      <th>column2</th>\n",
       "      <th>column3</th>\n",
       "      <th>column4</th>\n",
       "    </tr>\n",
       "  </thead>\n",
       "  <tbody>\n",
       "    <tr>\n",
       "      <th>s1</th>\n",
       "      <td>5</td>\n",
       "      <td>9</td>\n",
       "      <td>33</td>\n",
       "    </tr>\n",
       "    <tr>\n",
       "      <th>s2</th>\n",
       "      <td>6</td>\n",
       "      <td>10</td>\n",
       "      <td>56</td>\n",
       "    </tr>\n",
       "    <tr>\n",
       "      <th>s3</th>\n",
       "      <td>7</td>\n",
       "      <td>11</td>\n",
       "      <td>22</td>\n",
       "    </tr>\n",
       "    <tr>\n",
       "      <th>s4</th>\n",
       "      <td>8</td>\n",
       "      <td>12</td>\n",
       "      <td>54</td>\n",
       "    </tr>\n",
       "  </tbody>\n",
       "</table>\n",
       "</div>"
      ],
      "text/plain": [
       "    column2  column3  column4\n",
       "s1        5        9       33\n",
       "s2        6       10       56\n",
       "s3        7       11       22\n",
       "s4        8       12       54"
      ]
     },
     "execution_count": 61,
     "metadata": {},
     "output_type": "execute_result"
    }
   ],
   "source": [
    "data1"
   ]
  }
 ],
 "metadata": {
  "kernelspec": {
   "display_name": "Python 3 (ipykernel)",
   "language": "python",
   "name": "python3"
  },
  "language_info": {
   "codemirror_mode": {
    "name": "ipython",
    "version": 3
   },
   "file_extension": ".py",
   "mimetype": "text/x-python",
   "name": "python",
   "nbconvert_exporter": "python",
   "pygments_lexer": "ipython3",
   "version": "3.11.1"
  }
 },
 "nbformat": 4,
 "nbformat_minor": 5
}
