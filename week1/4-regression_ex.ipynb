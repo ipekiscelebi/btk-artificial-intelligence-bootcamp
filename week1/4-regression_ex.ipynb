{
 "cells": [
  {
   "cell_type": "code",
   "execution_count": 9,
   "metadata": {},
   "outputs": [],
   "source": [
    "import numpy as np\n",
    "import pandas as pd"
   ]
  },
  {
   "cell_type": "markdown",
   "metadata": {},
   "source": [
    "1-Loading Data"
   ]
  },
  {
   "cell_type": "code",
   "execution_count": 10,
   "metadata": {},
   "outputs": [],
   "source": [
    "data=pd.read_csv(\"Tr_ev_fiyatlari_v2.csv\")"
   ]
  },
  {
   "cell_type": "markdown",
   "metadata": {},
   "source": [
    "2-Data Exploration"
   ]
  },
  {
   "cell_type": "code",
   "execution_count": 11,
   "metadata": {},
   "outputs": [
    {
     "data": {
      "text/html": [
       "<div>\n",
       "<style scoped>\n",
       "    .dataframe tbody tr th:only-of-type {\n",
       "        vertical-align: middle;\n",
       "    }\n",
       "\n",
       "    .dataframe tbody tr th {\n",
       "        vertical-align: top;\n",
       "    }\n",
       "\n",
       "    .dataframe thead th {\n",
       "        text-align: right;\n",
       "    }\n",
       "</style>\n",
       "<table border=\"1\" class=\"dataframe\">\n",
       "  <thead>\n",
       "    <tr style=\"text-align: right;\">\n",
       "      <th></th>\n",
       "      <th>fiyat</th>\n",
       "      <th>alan</th>\n",
       "      <th>yatak_odasi</th>\n",
       "      <th>banyo_sayisi</th>\n",
       "      <th>kat_sayisi</th>\n",
       "      <th>anayol_baglanti</th>\n",
       "      <th>misafir_odası</th>\n",
       "      <th>bodrum</th>\n",
       "      <th>sıcak_su</th>\n",
       "      <th>klima</th>\n",
       "      <th>otopark</th>\n",
       "      <th>mob_drm</th>\n",
       "    </tr>\n",
       "  </thead>\n",
       "  <tbody>\n",
       "    <tr>\n",
       "      <th>0</th>\n",
       "      <td>13300000</td>\n",
       "      <td>7420</td>\n",
       "      <td>4</td>\n",
       "      <td>2</td>\n",
       "      <td>3</td>\n",
       "      <td>evet</td>\n",
       "      <td>hayır</td>\n",
       "      <td>hayır</td>\n",
       "      <td>hayır</td>\n",
       "      <td>evet</td>\n",
       "      <td>2</td>\n",
       "      <td>mobilyalı</td>\n",
       "    </tr>\n",
       "    <tr>\n",
       "      <th>1</th>\n",
       "      <td>12250000</td>\n",
       "      <td>8960</td>\n",
       "      <td>4</td>\n",
       "      <td>4</td>\n",
       "      <td>4</td>\n",
       "      <td>evet</td>\n",
       "      <td>hayır</td>\n",
       "      <td>hayır</td>\n",
       "      <td>hayır</td>\n",
       "      <td>evet</td>\n",
       "      <td>3</td>\n",
       "      <td>mobilyalı</td>\n",
       "    </tr>\n",
       "    <tr>\n",
       "      <th>2</th>\n",
       "      <td>12250000</td>\n",
       "      <td>9960</td>\n",
       "      <td>3</td>\n",
       "      <td>2</td>\n",
       "      <td>2</td>\n",
       "      <td>evet</td>\n",
       "      <td>hayır</td>\n",
       "      <td>evet</td>\n",
       "      <td>hayır</td>\n",
       "      <td>hayır</td>\n",
       "      <td>2</td>\n",
       "      <td>yarı mobilyalı</td>\n",
       "    </tr>\n",
       "  </tbody>\n",
       "</table>\n",
       "</div>"
      ],
      "text/plain": [
       "      fiyat  alan  yatak_odasi  banyo_sayisi  kat_sayisi anayol_baglanti  \\\n",
       "0  13300000  7420            4             2           3            evet   \n",
       "1  12250000  8960            4             4           4            evet   \n",
       "2  12250000  9960            3             2           2            evet   \n",
       "\n",
       "  misafir_odası bodrum sıcak_su  klima  otopark         mob_drm  \n",
       "0         hayır  hayır    hayır   evet        2       mobilyalı  \n",
       "1         hayır  hayır    hayır   evet        3       mobilyalı  \n",
       "2         hayır   evet    hayır  hayır        2  yarı mobilyalı  "
      ]
     },
     "execution_count": 11,
     "metadata": {},
     "output_type": "execute_result"
    }
   ],
   "source": [
    "data.head(3)"
   ]
  },
  {
   "cell_type": "code",
   "execution_count": 12,
   "metadata": {},
   "outputs": [
    {
     "name": "stdout",
     "output_type": "stream",
     "text": [
      "<class 'pandas.core.frame.DataFrame'>\n",
      "RangeIndex: 545 entries, 0 to 544\n",
      "Data columns (total 12 columns):\n",
      " #   Column           Non-Null Count  Dtype \n",
      "---  ------           --------------  ----- \n",
      " 0   fiyat            545 non-null    int64 \n",
      " 1   alan             545 non-null    int64 \n",
      " 2   yatak_odasi      545 non-null    int64 \n",
      " 3   banyo_sayisi     545 non-null    int64 \n",
      " 4   kat_sayisi       545 non-null    int64 \n",
      " 5   anayol_baglanti  545 non-null    object\n",
      " 6   misafir_odası    545 non-null    object\n",
      " 7   bodrum           545 non-null    object\n",
      " 8   sıcak_su         545 non-null    object\n",
      " 9   klima            545 non-null    object\n",
      " 10  otopark          545 non-null    int64 \n",
      " 11  mob_drm          545 non-null    object\n",
      "dtypes: int64(6), object(6)\n",
      "memory usage: 51.2+ KB\n"
     ]
    }
   ],
   "source": [
    "data.info()   #check whether elements are null or not"
   ]
  },
  {
   "cell_type": "code",
   "execution_count": 13,
   "metadata": {},
   "outputs": [
    {
     "data": {
      "text/html": [
       "<div>\n",
       "<style scoped>\n",
       "    .dataframe tbody tr th:only-of-type {\n",
       "        vertical-align: middle;\n",
       "    }\n",
       "\n",
       "    .dataframe tbody tr th {\n",
       "        vertical-align: top;\n",
       "    }\n",
       "\n",
       "    .dataframe thead th {\n",
       "        text-align: right;\n",
       "    }\n",
       "</style>\n",
       "<table border=\"1\" class=\"dataframe\">\n",
       "  <thead>\n",
       "    <tr style=\"text-align: right;\">\n",
       "      <th></th>\n",
       "      <th>fiyat</th>\n",
       "      <th>alan</th>\n",
       "      <th>yatak_odasi</th>\n",
       "      <th>banyo_sayisi</th>\n",
       "      <th>kat_sayisi</th>\n",
       "      <th>otopark</th>\n",
       "    </tr>\n",
       "  </thead>\n",
       "  <tbody>\n",
       "    <tr>\n",
       "      <th>count</th>\n",
       "      <td>5.450000e+02</td>\n",
       "      <td>545.000000</td>\n",
       "      <td>545.000000</td>\n",
       "      <td>545.000000</td>\n",
       "      <td>545.000000</td>\n",
       "      <td>545.000000</td>\n",
       "    </tr>\n",
       "    <tr>\n",
       "      <th>mean</th>\n",
       "      <td>4.766729e+06</td>\n",
       "      <td>5150.541284</td>\n",
       "      <td>2.965138</td>\n",
       "      <td>1.286239</td>\n",
       "      <td>1.805505</td>\n",
       "      <td>0.693578</td>\n",
       "    </tr>\n",
       "    <tr>\n",
       "      <th>std</th>\n",
       "      <td>1.870440e+06</td>\n",
       "      <td>2170.141023</td>\n",
       "      <td>0.738064</td>\n",
       "      <td>0.502470</td>\n",
       "      <td>0.867492</td>\n",
       "      <td>0.861586</td>\n",
       "    </tr>\n",
       "    <tr>\n",
       "      <th>min</th>\n",
       "      <td>1.750000e+06</td>\n",
       "      <td>1650.000000</td>\n",
       "      <td>1.000000</td>\n",
       "      <td>1.000000</td>\n",
       "      <td>1.000000</td>\n",
       "      <td>0.000000</td>\n",
       "    </tr>\n",
       "    <tr>\n",
       "      <th>25%</th>\n",
       "      <td>3.430000e+06</td>\n",
       "      <td>3600.000000</td>\n",
       "      <td>2.000000</td>\n",
       "      <td>1.000000</td>\n",
       "      <td>1.000000</td>\n",
       "      <td>0.000000</td>\n",
       "    </tr>\n",
       "    <tr>\n",
       "      <th>50%</th>\n",
       "      <td>4.340000e+06</td>\n",
       "      <td>4600.000000</td>\n",
       "      <td>3.000000</td>\n",
       "      <td>1.000000</td>\n",
       "      <td>2.000000</td>\n",
       "      <td>0.000000</td>\n",
       "    </tr>\n",
       "    <tr>\n",
       "      <th>75%</th>\n",
       "      <td>5.740000e+06</td>\n",
       "      <td>6360.000000</td>\n",
       "      <td>3.000000</td>\n",
       "      <td>2.000000</td>\n",
       "      <td>2.000000</td>\n",
       "      <td>1.000000</td>\n",
       "    </tr>\n",
       "    <tr>\n",
       "      <th>max</th>\n",
       "      <td>1.330000e+07</td>\n",
       "      <td>16200.000000</td>\n",
       "      <td>6.000000</td>\n",
       "      <td>4.000000</td>\n",
       "      <td>4.000000</td>\n",
       "      <td>3.000000</td>\n",
       "    </tr>\n",
       "  </tbody>\n",
       "</table>\n",
       "</div>"
      ],
      "text/plain": [
       "              fiyat          alan  yatak_odasi  banyo_sayisi  kat_sayisi  \\\n",
       "count  5.450000e+02    545.000000   545.000000    545.000000  545.000000   \n",
       "mean   4.766729e+06   5150.541284     2.965138      1.286239    1.805505   \n",
       "std    1.870440e+06   2170.141023     0.738064      0.502470    0.867492   \n",
       "min    1.750000e+06   1650.000000     1.000000      1.000000    1.000000   \n",
       "25%    3.430000e+06   3600.000000     2.000000      1.000000    1.000000   \n",
       "50%    4.340000e+06   4600.000000     3.000000      1.000000    2.000000   \n",
       "75%    5.740000e+06   6360.000000     3.000000      2.000000    2.000000   \n",
       "max    1.330000e+07  16200.000000     6.000000      4.000000    4.000000   \n",
       "\n",
       "          otopark  \n",
       "count  545.000000  \n",
       "mean     0.693578  \n",
       "std      0.861586  \n",
       "min      0.000000  \n",
       "25%      0.000000  \n",
       "50%      0.000000  \n",
       "75%      1.000000  \n",
       "max      3.000000  "
      ]
     },
     "execution_count": 13,
     "metadata": {},
     "output_type": "execute_result"
    }
   ],
   "source": [
    "data.describe()"
   ]
  },
  {
   "cell_type": "markdown",
   "metadata": {},
   "source": [
    "3-Handling Categorical Columns"
   ]
  },
  {
   "cell_type": "code",
   "execution_count": 14,
   "metadata": {},
   "outputs": [],
   "source": [
    "object_columns=data.select_dtypes(include=[\"object\"]).columns    #select type equals object columns"
   ]
  },
  {
   "cell_type": "code",
   "execution_count": 15,
   "metadata": {},
   "outputs": [
    {
     "data": {
      "text/plain": [
       "Index(['anayol_baglanti', 'misafir_odası', 'bodrum', 'sıcak_su', 'klima',\n",
       "       'mob_drm'],\n",
       "      dtype='object')"
      ]
     },
     "execution_count": 15,
     "metadata": {},
     "output_type": "execute_result"
    }
   ],
   "source": [
    "object_columns"
   ]
  },
  {
   "cell_type": "code",
   "execution_count": 16,
   "metadata": {},
   "outputs": [
    {
     "data": {
      "text/html": [
       "<div>\n",
       "<style scoped>\n",
       "    .dataframe tbody tr th:only-of-type {\n",
       "        vertical-align: middle;\n",
       "    }\n",
       "\n",
       "    .dataframe tbody tr th {\n",
       "        vertical-align: top;\n",
       "    }\n",
       "\n",
       "    .dataframe thead th {\n",
       "        text-align: right;\n",
       "    }\n",
       "</style>\n",
       "<table border=\"1\" class=\"dataframe\">\n",
       "  <thead>\n",
       "    <tr style=\"text-align: right;\">\n",
       "      <th></th>\n",
       "      <th>fiyat</th>\n",
       "      <th>alan</th>\n",
       "      <th>yatak_odasi</th>\n",
       "      <th>banyo_sayisi</th>\n",
       "      <th>kat_sayisi</th>\n",
       "      <th>otopark</th>\n",
       "      <th>anayol_baglanti_hayır</th>\n",
       "      <th>misafir_odası_hayır</th>\n",
       "      <th>bodrum_hayır</th>\n",
       "      <th>sıcak_su_hayır</th>\n",
       "      <th>klima_hayır</th>\n",
       "      <th>mob_drm_mobilyasız</th>\n",
       "      <th>mob_drm_yarı mobilyalı</th>\n",
       "    </tr>\n",
       "  </thead>\n",
       "  <tbody>\n",
       "    <tr>\n",
       "      <th>0</th>\n",
       "      <td>13300000</td>\n",
       "      <td>7420</td>\n",
       "      <td>4</td>\n",
       "      <td>2</td>\n",
       "      <td>3</td>\n",
       "      <td>2</td>\n",
       "      <td>False</td>\n",
       "      <td>True</td>\n",
       "      <td>True</td>\n",
       "      <td>True</td>\n",
       "      <td>False</td>\n",
       "      <td>False</td>\n",
       "      <td>False</td>\n",
       "    </tr>\n",
       "    <tr>\n",
       "      <th>1</th>\n",
       "      <td>12250000</td>\n",
       "      <td>8960</td>\n",
       "      <td>4</td>\n",
       "      <td>4</td>\n",
       "      <td>4</td>\n",
       "      <td>3</td>\n",
       "      <td>False</td>\n",
       "      <td>True</td>\n",
       "      <td>True</td>\n",
       "      <td>True</td>\n",
       "      <td>False</td>\n",
       "      <td>False</td>\n",
       "      <td>False</td>\n",
       "    </tr>\n",
       "    <tr>\n",
       "      <th>2</th>\n",
       "      <td>12250000</td>\n",
       "      <td>9960</td>\n",
       "      <td>3</td>\n",
       "      <td>2</td>\n",
       "      <td>2</td>\n",
       "      <td>2</td>\n",
       "      <td>False</td>\n",
       "      <td>True</td>\n",
       "      <td>False</td>\n",
       "      <td>True</td>\n",
       "      <td>True</td>\n",
       "      <td>False</td>\n",
       "      <td>True</td>\n",
       "    </tr>\n",
       "    <tr>\n",
       "      <th>3</th>\n",
       "      <td>12215000</td>\n",
       "      <td>7500</td>\n",
       "      <td>4</td>\n",
       "      <td>2</td>\n",
       "      <td>2</td>\n",
       "      <td>3</td>\n",
       "      <td>False</td>\n",
       "      <td>True</td>\n",
       "      <td>False</td>\n",
       "      <td>True</td>\n",
       "      <td>False</td>\n",
       "      <td>False</td>\n",
       "      <td>False</td>\n",
       "    </tr>\n",
       "    <tr>\n",
       "      <th>4</th>\n",
       "      <td>11410000</td>\n",
       "      <td>7420</td>\n",
       "      <td>4</td>\n",
       "      <td>1</td>\n",
       "      <td>2</td>\n",
       "      <td>2</td>\n",
       "      <td>False</td>\n",
       "      <td>False</td>\n",
       "      <td>False</td>\n",
       "      <td>True</td>\n",
       "      <td>False</td>\n",
       "      <td>False</td>\n",
       "      <td>False</td>\n",
       "    </tr>\n",
       "    <tr>\n",
       "      <th>...</th>\n",
       "      <td>...</td>\n",
       "      <td>...</td>\n",
       "      <td>...</td>\n",
       "      <td>...</td>\n",
       "      <td>...</td>\n",
       "      <td>...</td>\n",
       "      <td>...</td>\n",
       "      <td>...</td>\n",
       "      <td>...</td>\n",
       "      <td>...</td>\n",
       "      <td>...</td>\n",
       "      <td>...</td>\n",
       "      <td>...</td>\n",
       "    </tr>\n",
       "    <tr>\n",
       "      <th>540</th>\n",
       "      <td>1820000</td>\n",
       "      <td>3000</td>\n",
       "      <td>2</td>\n",
       "      <td>1</td>\n",
       "      <td>1</td>\n",
       "      <td>2</td>\n",
       "      <td>False</td>\n",
       "      <td>True</td>\n",
       "      <td>False</td>\n",
       "      <td>True</td>\n",
       "      <td>True</td>\n",
       "      <td>True</td>\n",
       "      <td>False</td>\n",
       "    </tr>\n",
       "    <tr>\n",
       "      <th>541</th>\n",
       "      <td>1767150</td>\n",
       "      <td>2400</td>\n",
       "      <td>3</td>\n",
       "      <td>1</td>\n",
       "      <td>1</td>\n",
       "      <td>0</td>\n",
       "      <td>True</td>\n",
       "      <td>True</td>\n",
       "      <td>True</td>\n",
       "      <td>True</td>\n",
       "      <td>True</td>\n",
       "      <td>False</td>\n",
       "      <td>True</td>\n",
       "    </tr>\n",
       "    <tr>\n",
       "      <th>542</th>\n",
       "      <td>1750000</td>\n",
       "      <td>3620</td>\n",
       "      <td>2</td>\n",
       "      <td>1</td>\n",
       "      <td>1</td>\n",
       "      <td>0</td>\n",
       "      <td>False</td>\n",
       "      <td>True</td>\n",
       "      <td>True</td>\n",
       "      <td>True</td>\n",
       "      <td>True</td>\n",
       "      <td>True</td>\n",
       "      <td>False</td>\n",
       "    </tr>\n",
       "    <tr>\n",
       "      <th>543</th>\n",
       "      <td>1750000</td>\n",
       "      <td>2910</td>\n",
       "      <td>3</td>\n",
       "      <td>1</td>\n",
       "      <td>1</td>\n",
       "      <td>0</td>\n",
       "      <td>True</td>\n",
       "      <td>True</td>\n",
       "      <td>True</td>\n",
       "      <td>True</td>\n",
       "      <td>True</td>\n",
       "      <td>False</td>\n",
       "      <td>False</td>\n",
       "    </tr>\n",
       "    <tr>\n",
       "      <th>544</th>\n",
       "      <td>1750000</td>\n",
       "      <td>3850</td>\n",
       "      <td>3</td>\n",
       "      <td>1</td>\n",
       "      <td>2</td>\n",
       "      <td>0</td>\n",
       "      <td>False</td>\n",
       "      <td>True</td>\n",
       "      <td>True</td>\n",
       "      <td>True</td>\n",
       "      <td>True</td>\n",
       "      <td>True</td>\n",
       "      <td>False</td>\n",
       "    </tr>\n",
       "  </tbody>\n",
       "</table>\n",
       "<p>545 rows × 13 columns</p>\n",
       "</div>"
      ],
      "text/plain": [
       "        fiyat  alan  yatak_odasi  banyo_sayisi  kat_sayisi  otopark  \\\n",
       "0    13300000  7420            4             2           3        2   \n",
       "1    12250000  8960            4             4           4        3   \n",
       "2    12250000  9960            3             2           2        2   \n",
       "3    12215000  7500            4             2           2        3   \n",
       "4    11410000  7420            4             1           2        2   \n",
       "..        ...   ...          ...           ...         ...      ...   \n",
       "540   1820000  3000            2             1           1        2   \n",
       "541   1767150  2400            3             1           1        0   \n",
       "542   1750000  3620            2             1           1        0   \n",
       "543   1750000  2910            3             1           1        0   \n",
       "544   1750000  3850            3             1           2        0   \n",
       "\n",
       "     anayol_baglanti_hayır  misafir_odası_hayır  bodrum_hayır  sıcak_su_hayır  \\\n",
       "0                    False                 True          True            True   \n",
       "1                    False                 True          True            True   \n",
       "2                    False                 True         False            True   \n",
       "3                    False                 True         False            True   \n",
       "4                    False                False         False            True   \n",
       "..                     ...                  ...           ...             ...   \n",
       "540                  False                 True         False            True   \n",
       "541                   True                 True          True            True   \n",
       "542                  False                 True          True            True   \n",
       "543                   True                 True          True            True   \n",
       "544                  False                 True          True            True   \n",
       "\n",
       "     klima_hayır  mob_drm_mobilyasız  mob_drm_yarı mobilyalı  \n",
       "0          False               False                   False  \n",
       "1          False               False                   False  \n",
       "2           True               False                    True  \n",
       "3          False               False                   False  \n",
       "4          False               False                   False  \n",
       "..           ...                 ...                     ...  \n",
       "540         True                True                   False  \n",
       "541         True               False                    True  \n",
       "542         True                True                   False  \n",
       "543         True               False                   False  \n",
       "544         True                True                   False  \n",
       "\n",
       "[545 rows x 13 columns]"
      ]
     },
     "execution_count": 16,
     "metadata": {},
     "output_type": "execute_result"
    }
   ],
   "source": [
    "data1=pd.get_dummies(data, columns=object_columns,drop_first=True)   \n",
    "data1"
   ]
  },
  {
   "cell_type": "markdown",
   "metadata": {},
   "source": [
    "4-Standardizing Data"
   ]
  },
  {
   "cell_type": "code",
   "execution_count": 17,
   "metadata": {},
   "outputs": [
    {
     "data": {
      "text/html": [
       "<div>\n",
       "<style scoped>\n",
       "    .dataframe tbody tr th:only-of-type {\n",
       "        vertical-align: middle;\n",
       "    }\n",
       "\n",
       "    .dataframe tbody tr th {\n",
       "        vertical-align: top;\n",
       "    }\n",
       "\n",
       "    .dataframe thead th {\n",
       "        text-align: right;\n",
       "    }\n",
       "</style>\n",
       "<table border=\"1\" class=\"dataframe\">\n",
       "  <thead>\n",
       "    <tr style=\"text-align: right;\">\n",
       "      <th></th>\n",
       "      <th>fiyat</th>\n",
       "      <th>alan</th>\n",
       "      <th>yatak_odasi</th>\n",
       "      <th>banyo_sayisi</th>\n",
       "      <th>kat_sayisi</th>\n",
       "      <th>otopark</th>\n",
       "      <th>anayol_baglanti_hayır</th>\n",
       "      <th>misafir_odası_hayır</th>\n",
       "      <th>bodrum_hayır</th>\n",
       "      <th>sıcak_su_hayır</th>\n",
       "      <th>klima_hayır</th>\n",
       "      <th>mob_drm_mobilyasız</th>\n",
       "      <th>mob_drm_yarı mobilyalı</th>\n",
       "    </tr>\n",
       "  </thead>\n",
       "  <tbody>\n",
       "    <tr>\n",
       "      <th>0</th>\n",
       "      <td>4.566365</td>\n",
       "      <td>1.046726</td>\n",
       "      <td>1.403419</td>\n",
       "      <td>1.421812</td>\n",
       "      <td>1.378217</td>\n",
       "      <td>1.517692</td>\n",
       "      <td>-0.405623</td>\n",
       "      <td>0.465315</td>\n",
       "      <td>0.734539</td>\n",
       "      <td>0.219265</td>\n",
       "      <td>-1.472618</td>\n",
       "      <td>-0.696429</td>\n",
       "      <td>-0.844888</td>\n",
       "    </tr>\n",
       "    <tr>\n",
       "      <th>1</th>\n",
       "      <td>4.004484</td>\n",
       "      <td>1.757010</td>\n",
       "      <td>1.403419</td>\n",
       "      <td>5.405809</td>\n",
       "      <td>2.532024</td>\n",
       "      <td>2.679409</td>\n",
       "      <td>-0.405623</td>\n",
       "      <td>0.465315</td>\n",
       "      <td>0.734539</td>\n",
       "      <td>0.219265</td>\n",
       "      <td>-1.472618</td>\n",
       "      <td>-0.696429</td>\n",
       "      <td>-0.844888</td>\n",
       "    </tr>\n",
       "    <tr>\n",
       "      <th>2</th>\n",
       "      <td>4.004484</td>\n",
       "      <td>2.218232</td>\n",
       "      <td>0.047278</td>\n",
       "      <td>1.421812</td>\n",
       "      <td>0.224410</td>\n",
       "      <td>1.517692</td>\n",
       "      <td>-0.405623</td>\n",
       "      <td>0.465315</td>\n",
       "      <td>-1.361397</td>\n",
       "      <td>0.219265</td>\n",
       "      <td>0.679063</td>\n",
       "      <td>-0.696429</td>\n",
       "      <td>1.183588</td>\n",
       "    </tr>\n",
       "    <tr>\n",
       "      <th>3</th>\n",
       "      <td>3.985755</td>\n",
       "      <td>1.083624</td>\n",
       "      <td>1.403419</td>\n",
       "      <td>1.421812</td>\n",
       "      <td>0.224410</td>\n",
       "      <td>2.679409</td>\n",
       "      <td>-0.405623</td>\n",
       "      <td>0.465315</td>\n",
       "      <td>-1.361397</td>\n",
       "      <td>0.219265</td>\n",
       "      <td>-1.472618</td>\n",
       "      <td>-0.696429</td>\n",
       "      <td>-0.844888</td>\n",
       "    </tr>\n",
       "    <tr>\n",
       "      <th>4</th>\n",
       "      <td>3.554979</td>\n",
       "      <td>1.046726</td>\n",
       "      <td>1.403419</td>\n",
       "      <td>-0.570187</td>\n",
       "      <td>0.224410</td>\n",
       "      <td>1.517692</td>\n",
       "      <td>-0.405623</td>\n",
       "      <td>-2.149083</td>\n",
       "      <td>-1.361397</td>\n",
       "      <td>0.219265</td>\n",
       "      <td>-1.472618</td>\n",
       "      <td>-0.696429</td>\n",
       "      <td>-0.844888</td>\n",
       "    </tr>\n",
       "    <tr>\n",
       "      <th>...</th>\n",
       "      <td>...</td>\n",
       "      <td>...</td>\n",
       "      <td>...</td>\n",
       "      <td>...</td>\n",
       "      <td>...</td>\n",
       "      <td>...</td>\n",
       "      <td>...</td>\n",
       "      <td>...</td>\n",
       "      <td>...</td>\n",
       "      <td>...</td>\n",
       "      <td>...</td>\n",
       "      <td>...</td>\n",
       "      <td>...</td>\n",
       "    </tr>\n",
       "    <tr>\n",
       "      <th>540</th>\n",
       "      <td>-1.576868</td>\n",
       "      <td>-0.991879</td>\n",
       "      <td>-1.308863</td>\n",
       "      <td>-0.570187</td>\n",
       "      <td>-0.929397</td>\n",
       "      <td>1.517692</td>\n",
       "      <td>-0.405623</td>\n",
       "      <td>0.465315</td>\n",
       "      <td>-1.361397</td>\n",
       "      <td>0.219265</td>\n",
       "      <td>0.679063</td>\n",
       "      <td>1.435896</td>\n",
       "      <td>-0.844888</td>\n",
       "    </tr>\n",
       "    <tr>\n",
       "      <th>541</th>\n",
       "      <td>-1.605149</td>\n",
       "      <td>-1.268613</td>\n",
       "      <td>0.047278</td>\n",
       "      <td>-0.570187</td>\n",
       "      <td>-0.929397</td>\n",
       "      <td>-0.805741</td>\n",
       "      <td>2.465344</td>\n",
       "      <td>0.465315</td>\n",
       "      <td>0.734539</td>\n",
       "      <td>0.219265</td>\n",
       "      <td>0.679063</td>\n",
       "      <td>-0.696429</td>\n",
       "      <td>1.183588</td>\n",
       "    </tr>\n",
       "    <tr>\n",
       "      <th>542</th>\n",
       "      <td>-1.614327</td>\n",
       "      <td>-0.705921</td>\n",
       "      <td>-1.308863</td>\n",
       "      <td>-0.570187</td>\n",
       "      <td>-0.929397</td>\n",
       "      <td>-0.805741</td>\n",
       "      <td>-0.405623</td>\n",
       "      <td>0.465315</td>\n",
       "      <td>0.734539</td>\n",
       "      <td>0.219265</td>\n",
       "      <td>0.679063</td>\n",
       "      <td>1.435896</td>\n",
       "      <td>-0.844888</td>\n",
       "    </tr>\n",
       "    <tr>\n",
       "      <th>543</th>\n",
       "      <td>-1.614327</td>\n",
       "      <td>-1.033389</td>\n",
       "      <td>0.047278</td>\n",
       "      <td>-0.570187</td>\n",
       "      <td>-0.929397</td>\n",
       "      <td>-0.805741</td>\n",
       "      <td>2.465344</td>\n",
       "      <td>0.465315</td>\n",
       "      <td>0.734539</td>\n",
       "      <td>0.219265</td>\n",
       "      <td>0.679063</td>\n",
       "      <td>-0.696429</td>\n",
       "      <td>-0.844888</td>\n",
       "    </tr>\n",
       "    <tr>\n",
       "      <th>544</th>\n",
       "      <td>-1.614327</td>\n",
       "      <td>-0.599839</td>\n",
       "      <td>0.047278</td>\n",
       "      <td>-0.570187</td>\n",
       "      <td>0.224410</td>\n",
       "      <td>-0.805741</td>\n",
       "      <td>-0.405623</td>\n",
       "      <td>0.465315</td>\n",
       "      <td>0.734539</td>\n",
       "      <td>0.219265</td>\n",
       "      <td>0.679063</td>\n",
       "      <td>1.435896</td>\n",
       "      <td>-0.844888</td>\n",
       "    </tr>\n",
       "  </tbody>\n",
       "</table>\n",
       "<p>545 rows × 13 columns</p>\n",
       "</div>"
      ],
      "text/plain": [
       "        fiyat      alan  yatak_odasi  banyo_sayisi  kat_sayisi   otopark  \\\n",
       "0    4.566365  1.046726     1.403419      1.421812    1.378217  1.517692   \n",
       "1    4.004484  1.757010     1.403419      5.405809    2.532024  2.679409   \n",
       "2    4.004484  2.218232     0.047278      1.421812    0.224410  1.517692   \n",
       "3    3.985755  1.083624     1.403419      1.421812    0.224410  2.679409   \n",
       "4    3.554979  1.046726     1.403419     -0.570187    0.224410  1.517692   \n",
       "..        ...       ...          ...           ...         ...       ...   \n",
       "540 -1.576868 -0.991879    -1.308863     -0.570187   -0.929397  1.517692   \n",
       "541 -1.605149 -1.268613     0.047278     -0.570187   -0.929397 -0.805741   \n",
       "542 -1.614327 -0.705921    -1.308863     -0.570187   -0.929397 -0.805741   \n",
       "543 -1.614327 -1.033389     0.047278     -0.570187   -0.929397 -0.805741   \n",
       "544 -1.614327 -0.599839     0.047278     -0.570187    0.224410 -0.805741   \n",
       "\n",
       "     anayol_baglanti_hayır  misafir_odası_hayır  bodrum_hayır  sıcak_su_hayır  \\\n",
       "0                -0.405623             0.465315      0.734539        0.219265   \n",
       "1                -0.405623             0.465315      0.734539        0.219265   \n",
       "2                -0.405623             0.465315     -1.361397        0.219265   \n",
       "3                -0.405623             0.465315     -1.361397        0.219265   \n",
       "4                -0.405623            -2.149083     -1.361397        0.219265   \n",
       "..                     ...                  ...           ...             ...   \n",
       "540              -0.405623             0.465315     -1.361397        0.219265   \n",
       "541               2.465344             0.465315      0.734539        0.219265   \n",
       "542              -0.405623             0.465315      0.734539        0.219265   \n",
       "543               2.465344             0.465315      0.734539        0.219265   \n",
       "544              -0.405623             0.465315      0.734539        0.219265   \n",
       "\n",
       "     klima_hayır  mob_drm_mobilyasız  mob_drm_yarı mobilyalı  \n",
       "0      -1.472618           -0.696429               -0.844888  \n",
       "1      -1.472618           -0.696429               -0.844888  \n",
       "2       0.679063           -0.696429                1.183588  \n",
       "3      -1.472618           -0.696429               -0.844888  \n",
       "4      -1.472618           -0.696429               -0.844888  \n",
       "..           ...                 ...                     ...  \n",
       "540     0.679063            1.435896               -0.844888  \n",
       "541     0.679063           -0.696429                1.183588  \n",
       "542     0.679063            1.435896               -0.844888  \n",
       "543     0.679063           -0.696429               -0.844888  \n",
       "544     0.679063            1.435896               -0.844888  \n",
       "\n",
       "[545 rows x 13 columns]"
      ]
     },
     "execution_count": 17,
     "metadata": {},
     "output_type": "execute_result"
    }
   ],
   "source": [
    "from sklearn.preprocessing import StandardScaler\n",
    "scaler = StandardScaler()\n",
    "normalized_data = scaler.fit_transform(data1)\n",
    "df_normalized = pd.DataFrame(data=normalized_data,columns=data1.columns)\n",
    "df_normalized"
   ]
  },
  {
   "cell_type": "code",
   "execution_count": 25,
   "metadata": {},
   "outputs": [],
   "source": [
    "y = df_normalized[\"fiyat\"]\n",
    "x = df_normalized.drop(\"fiyat\", axis=1).iloc[0]"
   ]
  },
  {
   "cell_type": "markdown",
   "metadata": {},
   "source": [
    "5-Splitting Data into Training and Testing Sets"
   ]
  },
  {
   "cell_type": "code",
   "execution_count": 27,
   "metadata": {},
   "outputs": [],
   "source": [
    "from sklearn.model_selection import train_test_split\n",
    "xtrain, xtest, ytrain, ytest = train_test_split(df_normalized.drop(\"fiyat\", axis=1), df_normalized[\"fiyat\"], test_size=0.2, random_state=33)"
   ]
  },
  {
   "cell_type": "markdown",
   "metadata": {},
   "source": [
    "6-Building and Training a Linear Regression Model"
   ]
  },
  {
   "cell_type": "code",
   "execution_count": 28,
   "metadata": {},
   "outputs": [],
   "source": [
    "from sklearn.linear_model import LinearRegression\n",
    "lr = LinearRegression()"
   ]
  },
  {
   "cell_type": "code",
   "execution_count": 31,
   "metadata": {},
   "outputs": [
    {
     "data": {
      "text/html": [
       "<style>#sk-container-id-1 {color: black;}#sk-container-id-1 pre{padding: 0;}#sk-container-id-1 div.sk-toggleable {background-color: white;}#sk-container-id-1 label.sk-toggleable__label {cursor: pointer;display: block;width: 100%;margin-bottom: 0;padding: 0.3em;box-sizing: border-box;text-align: center;}#sk-container-id-1 label.sk-toggleable__label-arrow:before {content: \"▸\";float: left;margin-right: 0.25em;color: #696969;}#sk-container-id-1 label.sk-toggleable__label-arrow:hover:before {color: black;}#sk-container-id-1 div.sk-estimator:hover label.sk-toggleable__label-arrow:before {color: black;}#sk-container-id-1 div.sk-toggleable__content {max-height: 0;max-width: 0;overflow: hidden;text-align: left;background-color: #f0f8ff;}#sk-container-id-1 div.sk-toggleable__content pre {margin: 0.2em;color: black;border-radius: 0.25em;background-color: #f0f8ff;}#sk-container-id-1 input.sk-toggleable__control:checked~div.sk-toggleable__content {max-height: 200px;max-width: 100%;overflow: auto;}#sk-container-id-1 input.sk-toggleable__control:checked~label.sk-toggleable__label-arrow:before {content: \"▾\";}#sk-container-id-1 div.sk-estimator input.sk-toggleable__control:checked~label.sk-toggleable__label {background-color: #d4ebff;}#sk-container-id-1 div.sk-label input.sk-toggleable__control:checked~label.sk-toggleable__label {background-color: #d4ebff;}#sk-container-id-1 input.sk-hidden--visually {border: 0;clip: rect(1px 1px 1px 1px);clip: rect(1px, 1px, 1px, 1px);height: 1px;margin: -1px;overflow: hidden;padding: 0;position: absolute;width: 1px;}#sk-container-id-1 div.sk-estimator {font-family: monospace;background-color: #f0f8ff;border: 1px dotted black;border-radius: 0.25em;box-sizing: border-box;margin-bottom: 0.5em;}#sk-container-id-1 div.sk-estimator:hover {background-color: #d4ebff;}#sk-container-id-1 div.sk-parallel-item::after {content: \"\";width: 100%;border-bottom: 1px solid gray;flex-grow: 1;}#sk-container-id-1 div.sk-label:hover label.sk-toggleable__label {background-color: #d4ebff;}#sk-container-id-1 div.sk-serial::before {content: \"\";position: absolute;border-left: 1px solid gray;box-sizing: border-box;top: 0;bottom: 0;left: 50%;z-index: 0;}#sk-container-id-1 div.sk-serial {display: flex;flex-direction: column;align-items: center;background-color: white;padding-right: 0.2em;padding-left: 0.2em;position: relative;}#sk-container-id-1 div.sk-item {position: relative;z-index: 1;}#sk-container-id-1 div.sk-parallel {display: flex;align-items: stretch;justify-content: center;background-color: white;position: relative;}#sk-container-id-1 div.sk-item::before, #sk-container-id-1 div.sk-parallel-item::before {content: \"\";position: absolute;border-left: 1px solid gray;box-sizing: border-box;top: 0;bottom: 0;left: 50%;z-index: -1;}#sk-container-id-1 div.sk-parallel-item {display: flex;flex-direction: column;z-index: 1;position: relative;background-color: white;}#sk-container-id-1 div.sk-parallel-item:first-child::after {align-self: flex-end;width: 50%;}#sk-container-id-1 div.sk-parallel-item:last-child::after {align-self: flex-start;width: 50%;}#sk-container-id-1 div.sk-parallel-item:only-child::after {width: 0;}#sk-container-id-1 div.sk-dashed-wrapped {border: 1px dashed gray;margin: 0 0.4em 0.5em 0.4em;box-sizing: border-box;padding-bottom: 0.4em;background-color: white;}#sk-container-id-1 div.sk-label label {font-family: monospace;font-weight: bold;display: inline-block;line-height: 1.2em;}#sk-container-id-1 div.sk-label-container {text-align: center;}#sk-container-id-1 div.sk-container {/* jupyter's `normalize.less` sets `[hidden] { display: none; }` but bootstrap.min.css set `[hidden] { display: none !important; }` so we also need the `!important` here to be able to override the default hidden behavior on the sphinx rendered scikit-learn.org. See: https://github.com/scikit-learn/scikit-learn/issues/21755 */display: inline-block !important;position: relative;}#sk-container-id-1 div.sk-text-repr-fallback {display: none;}</style><div id=\"sk-container-id-1\" class=\"sk-top-container\"><div class=\"sk-text-repr-fallback\"><pre>LinearRegression()</pre><b>In a Jupyter environment, please rerun this cell to show the HTML representation or trust the notebook. <br />On GitHub, the HTML representation is unable to render, please try loading this page with nbviewer.org.</b></div><div class=\"sk-container\" hidden><div class=\"sk-item\"><div class=\"sk-estimator sk-toggleable\"><input class=\"sk-toggleable__control sk-hidden--visually\" id=\"sk-estimator-id-1\" type=\"checkbox\" checked><label for=\"sk-estimator-id-1\" class=\"sk-toggleable__label sk-toggleable__label-arrow\">LinearRegression</label><div class=\"sk-toggleable__content\"><pre>LinearRegression()</pre></div></div></div></div></div>"
      ],
      "text/plain": [
       "LinearRegression()"
      ]
     },
     "execution_count": 31,
     "metadata": {},
     "output_type": "execute_result"
    }
   ],
   "source": [
    "lr.fit(xtrain, ytrain)"
   ]
  },
  {
   "cell_type": "markdown",
   "metadata": {},
   "source": [
    "7-Making Predictions"
   ]
  },
  {
   "cell_type": "code",
   "execution_count": 32,
   "metadata": {},
   "outputs": [],
   "source": [
    "ypred = lr.predict(xtest)"
   ]
  },
  {
   "cell_type": "code",
   "execution_count": 33,
   "metadata": {},
   "outputs": [
    {
     "data": {
      "text/plain": [
       "257   -0.153436\n",
       "122    0.633198\n",
       "480   -0.977528\n",
       "21     2.094088\n",
       "138    0.520821\n",
       "         ...   \n",
       "67     1.138891\n",
       "530   -1.352116\n",
       "270   -0.228353\n",
       "287   -0.303271\n",
       "49     1.419831\n",
       "Name: fiyat, Length: 109, dtype: float64"
      ]
     },
     "execution_count": 33,
     "metadata": {},
     "output_type": "execute_result"
    }
   ],
   "source": [
    "ytest"
   ]
  },
  {
   "cell_type": "code",
   "execution_count": 34,
   "metadata": {},
   "outputs": [
    {
     "data": {
      "text/plain": [
       "109"
      ]
     },
     "execution_count": 34,
     "metadata": {},
     "output_type": "execute_result"
    }
   ],
   "source": [
    "len(ypred)   #The lengths of the ytest and ypred must be the same to check for size mismatch"
   ]
  },
  {
   "cell_type": "markdown",
   "metadata": {},
   "source": [
    "8-Model Evaluation"
   ]
  },
  {
   "cell_type": "code",
   "execution_count": 35,
   "metadata": {},
   "outputs": [
    {
     "data": {
      "text/plain": [
       "0.5886667046527706"
      ]
     },
     "execution_count": 35,
     "metadata": {},
     "output_type": "execute_result"
    }
   ],
   "source": [
    "from sklearn.metrics import r2_score\n",
    "r2 = r2_score(ytest, ypred)\n",
    "r2   #scoreun düşük olması modelin perofrmansının çok da iyi olmadığını gösterir, gerçi veri seti de çok yeterli değildi zaten(!)"
   ]
  },
  {
   "cell_type": "markdown",
   "metadata": {},
   "source": [
    "9-Visualizing Results"
   ]
  },
  {
   "cell_type": "code",
   "execution_count": 25,
   "metadata": {},
   "outputs": [
    {
     "data": {
      "image/png": "[encoded data removed]",
      "text/plain": [
       "<Figure size 640x480 with 1 Axes>"
      ]
     },
     "metadata": {},
     "output_type": "display_data"
    }
   ],
   "source": [
    "import matplotlib.pyplot as plt\n",
    "plt.scatter(ytest,ypred)\n",
    "plt.plot(ypred,ytest)\n",
    "plt.show()"
   ]
  },
  {
   "cell_type": "markdown",
   "metadata": {},
   "source": [
    "10-Manual Prediction"
   ]
  },
  {
   "cell_type": "code",
   "execution_count": null,
   "metadata": {},
   "outputs": [],
   "source": [
    "area = int(input(\"enter the area: \"))\n",
    "bedroom = int(input(\"enter the bedroom number: \"))\n",
    "bathroom = int(input(\"enter the bathroom number: \"))\n",
    "number_floor = int(input(\"enter number of floor: \"))\n",
    "parking_lot = int(input(\"enter the parking lot: \"))\n",
    "highway = int(input(\"enter the highwway: \"))\n",
    "guest_room = int(input(\"enter the guest_room: \"))\n",
    "bodrum_floor = (input(\"enter the bordum floor: \"))\n",
    "hot_water = (input(\"enter the hot water: \"))\n",
    "cooler = (input(\"enter the cooler: \"))\n",
    "furniture = (input(\"enter the furniture: \"))\n",
    "half_furniture= (input(\"enter the half furniture: \"))\n",
    "price_predict= lr.predict([[area, bedroom, bathroom, number_floor, parking_lot, highway, guest_room, bodrum_floor, hot_water, cooler, furniture, half_furniture, half_furniture]])"
   ]
  },
  {
   "cell_type": "markdown",
   "metadata": {},
   "source": [
    "11-Scaling Manual Input"
   ]
  },
  {
   "cell_type": "code",
   "execution_count": 27,
   "metadata": {},
   "outputs": [
    {
     "name": "stderr",
     "output_type": "stream",
     "text": [
      "c:\\Users\\ipek\\AppData\\Local\\Programs\\Python\\Python311\\Lib\\site-packages\\sklearn\\base.py:464: UserWarning: X does not have valid feature names, but StandardScaler was fitted with feature names\n",
      "  warnings.warn(\n"
     ]
    }
   ],
   "source": [
    "manuel=np.array([[30, 54, 67, 89, 43, 54, 784, 54, 34, 65, 23, 45, 67]])\n",
    "scaled_value = scaler.transform(manuel)"
   ]
  },
  {
   "cell_type": "code",
   "execution_count": 29,
   "metadata": {},
   "outputs": [
    {
     "data": {
      "text/plain": [
       "array([[  -2.55077916,   -2.35064146,   86.84030523,  174.72567676,\n",
       "          47.5304886 ,   61.92696939, 2250.43257031,  139.02838503,\n",
       "          69.90045447,  306.13710164,   48.01604219,   95.25821133,\n",
       "         135.06304737]])"
      ]
     },
     "execution_count": 29,
     "metadata": {},
     "output_type": "execute_result"
    }
   ],
   "source": [
    "scaled_value"
   ]
  }
 ],
 "metadata": {
  "kernelspec": {
   "display_name": "Python 3",
   "language": "python",
   "name": "python3"
  },
  "language_info": {
   "codemirror_mode": {
    "name": "ipython",
    "version": 3
   },
   "file_extension": ".py",
   "mimetype": "text/x-python",
   "name": "python",
   "nbconvert_exporter": "python",
   "pygments_lexer": "ipython3",
   "version": "3.11.1"
  }
 },
 "nbformat": 4,
 "nbformat_minor": 2
}
